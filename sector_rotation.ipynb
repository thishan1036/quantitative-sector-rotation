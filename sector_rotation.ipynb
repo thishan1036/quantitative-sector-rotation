{
 "cells": [
  {
   "cell_type": "markdown",
   "metadata": {
    "id": "td70E9GEjOh3"
   },
   "source": [
    "Capstone Project (August 2025)\n",
    "\n",
    "Single Stage Relative Sector Rotation Model\n",
    "\n",
    "Objective:\n",
    "\n",
    "To develop and validate a quantitative model that ranks the 11 sector ETFs based on predicted next-month relative performance. The final model will be used to construct a monthly rotating portfolio that aims to outperform benchmarks while managing regime risk.\n",
    "\n",
    "1. Predict next-month performance of each sector ETFs\n",
    "2. Rank their relative strength\n",
    "3. Backtest the strategy to see if it outperforms passive SPY benchmark\n",
    "\n",
    "Dataset range: 2010-01-01 to present"
   ]
  },
  {
   "cell_type": "code",
   "execution_count": 10,
   "metadata": {
    "id": "BFm2-3rDbocY"
   },
   "outputs": [],
   "source": [
    "import pandas as pd\n",
    "import numpy as np\n",
    "import datetime\n",
    "\n",
    "import matplotlib.pyplot as plt\n",
    "import seaborn as sns\n",
    "\n",
    "import yfinance as yf\n",
    "from sklearn.preprocessing import StandardScaler, RobustScaler\n",
    "from sklearn.model_selection import TimeSeriesSplit\n",
    "from sklearn.ensemble import RandomForestClassifier, RandomForestRegressor\n",
    "from sklearn.metrics import accuracy_score, classification_report\n",
    "from sklearn.linear_model import ElasticNet\n",
    "\n",
    "from scipy import stats\n",
    "from scipy.stats import zscore\n",
    "\n",
    "import warnings\n",
    "warnings.filterwarnings('ignore')\n",
    "np.NaN = np.nan # this solved issue with pandas_ta\n",
    "import pandas_ta as ta\n",
    "from pandas.tseries.offsets import BDay\n",
    "import pandas_datareader.data as web"
   ]
  },
  {
   "cell_type": "code",
   "execution_count": 11,
   "metadata": {
    "id": "UR7oZKcwbtEI"
   },
   "outputs": [],
   "source": [
    "# internal function\n",
    "# checking data quality\n",
    "def quick_data_check(df, data_name = 'dataset'):\n",
    "  print(f\"{data_name}\")\n",
    "  print(f\"Shape of {data_name}: {df.shape}\")\n",
    "  print(f\"Data range: {df.index.min()} to {df.index.max()}\")\n",
    "  print(f\"Missing values: {df.isnull().sum().sum()}\")\n",
    "  print(f\"Columns: {df.columns.tolist()}\")\n",
    "  return df.head(3), df.tail(3)\n",
    "\n",
    "# creating rolling features\n",
    "def create_rolling_features(series, windows=[20,60,200]):\n",
    "  features = {}\n",
    "  for window in windows:\n",
    "    features[f'ma_{window}'] = series.rolling(window=window).mean()\n",
    "    features[f'std_{window}'] = series.rolling(window=window).std()\n",
    "  return pd.DataFrame(features, index=series.index)\n",
    "\n",
    "# creating sector features\n",
    "def create_sector_features(price_series, windows=[20,60,200]):\n",
    "  features = {}\n",
    "  for window in windows:\n",
    "    features[f'sector_ma_{window}'] = price_series.rolling(window=window).mean()\n",
    "    features[f'sector_std_{window}'] = price_series.rolling(window=window).std()\n",
    "\n",
    "  features['returns_1m'] = price_series.pct_change(20)\n",
    "  features['returns_3m'] = price_series.pct_change(60)\n",
    "  features['volatility_20d'] = price_series.pct_change().rolling(20).std()*np.sqrt(252)\n",
    "  return pd.DataFrame(features, index=price_series.index)"
   ]
  },
  {
   "cell_type": "markdown",
   "metadata": {
    "id": "mt62B8f5oi-W"
   },
   "source": [
    "## Part 1-1\n",
    "\n",
    "### Data collection and preparation"
   ]
  },
  {
   "cell_type": "code",
   "execution_count": 12,
   "metadata": {
    "colab": {
     "base_uri": "https://localhost:8080/"
    },
    "id": "LtFt87HKfBtL",
    "outputId": "9b46aa08-bcdd-453d-f7fe-4891688494e7"
   },
   "outputs": [
    {
     "name": "stdout",
     "output_type": "stream",
     "text": [
      "Collecting data from 2010-01-01 to 2025-08-17\n"
     ]
    }
   ],
   "source": [
    "# data collection\n",
    "start_date = '2010-01-01'\n",
    "end_date = datetime.datetime.now().strftime('%Y-%m-%d')\n",
    "print(f\"Collecting data from {start_date} to {end_date}\")\n",
    "\n",
    "sector_etf = {\n",
    "    'XLE': 'Energy',\n",
    "    'XLF': 'Financials',\n",
    "    'XLV': 'Health Care',\n",
    "    'XLI': 'Industrials',\n",
    "    'XLB': 'Materials',\n",
    "    'XLRE': 'Real Estate',\n",
    "    'XLK': 'Technology',\n",
    "    'XLC': 'Communication Services',\n",
    "    'XLY': 'Consumer Discretionary',\n",
    "    'XLP': 'Consumer Staples',\n",
    "    'XLU': 'Utilities'\n",
    "}\n",
    "\n",
    "benchmark = {\n",
    "    'SPY': 'S&P 500'\n",
    "}\n",
    "\n",
    "macro_indicator = {\n",
    "    '^TNX': '10-Year Treasury',\n",
    "    'CL=F': 'WTI Crude Oil',\n",
    "}"
   ]
  },
  {
   "cell_type": "markdown",
   "metadata": {},
   "source": [
    "**Sector ETFs**\n",
    "- These are the core instruments for the rotation strategy. The model will analyze the 11 US sector ETFs to identify which are poised to outperform."
   ]
  },
  {
   "cell_type": "code",
   "execution_count": 13,
   "metadata": {
    "colab": {
     "base_uri": "https://localhost:8080/"
    },
    "id": "He7scTkEfNUi",
    "outputId": "c83e4ff2-e930-4c04-a42f-3f9ffbc6c845"
   },
   "outputs": [
    {
     "name": "stdout",
     "output_type": "stream",
     "text": [
      "XLE: 3929 rows downloaded\n",
      "XLF: 3929 rows downloaded\n",
      "XLV: 3929 rows downloaded\n",
      "XLI: 3929 rows downloaded\n",
      "XLB: 3929 rows downloaded\n",
      "XLRE: 2478 rows downloaded\n",
      "XLK: 3929 rows downloaded\n",
      "XLC: 1800 rows downloaded\n",
      "XLY: 3929 rows downloaded\n",
      "XLP: 3929 rows downloaded\n",
      "XLU: 3929 rows downloaded\n"
     ]
    }
   ],
   "source": [
    "# sector ETFs\n",
    "data = {}\n",
    "for ticker, name in sector_etf.items():\n",
    "  try:\n",
    "    ticker_data = yf.download(ticker,\n",
    "                              start = start_date,\n",
    "                              end = end_date,\n",
    "                              progress=False)\n",
    "    data[ticker] = ticker_data\n",
    "    print(f\"{ticker}: {len(ticker_data)} rows downloaded\")\n",
    "  except Exception as e:\n",
    "    print(f\"Error downloading {ticker}: {e}\")"
   ]
  },
  {
   "cell_type": "markdown",
   "metadata": {},
   "source": [
    "**Benchmark**\n",
    "1. The primary benchmark against which the final strategy's performance will be measured.\n",
    "2. Its price action will be used to engineer a market regime (revealing if the market is in a bull or bear phase)."
   ]
  },
  {
   "cell_type": "code",
   "execution_count": 14,
   "metadata": {
    "colab": {
     "base_uri": "https://localhost:8080/"
    },
    "id": "BKEq11Oghd7G",
    "outputId": "d6be278e-b7c9-413f-eda1-ad37005e82e8"
   },
   "outputs": [
    {
     "name": "stdout",
     "output_type": "stream",
     "text": [
      "SPY: 3929 rows downloaded\n"
     ]
    }
   ],
   "source": [
    "# benchmark\n",
    "for ticker, name in benchmark.items():\n",
    "  try:\n",
    "    ticker_data = yf.download(ticker,\n",
    "                              start = start_date,\n",
    "                              end = end_date,\n",
    "                              progress=False)\n",
    "    data[ticker] = ticker_data\n",
    "    print(f\"{ticker}: {len(ticker_data)} rows downloaded\")\n",
    "  except Exception as e:\n",
    "    print(f\"Error downloading {ticker}: {e}\")"
   ]
  },
  {
   "cell_type": "markdown",
   "metadata": {},
   "source": [
    "**Macroeconomic indicators**\n",
    "- 10-year treasury yield (^TNX): A proxy for interest rates, which impacts sectors like financials, utilities, and technology.\n",
    "- WTI crude oil (CL=F): A key driver for the energy sector and an indicator of inflationary pressures that can affect industrial and material sectors.\n",
    "- High yield credit spread: This serves as a measure of how investors look at market risk. A widening spread signals a \"risk-off\" sentiment, often favoring defensive sectors.\n"
   ]
  },
  {
   "cell_type": "code",
   "execution_count": 15,
   "metadata": {
    "colab": {
     "base_uri": "https://localhost:8080/"
    },
    "id": "5n5mMv17heN5",
    "outputId": "f06c41d9-0407-496c-a04a-f1ac1746b7ca"
   },
   "outputs": [
    {
     "name": "stdout",
     "output_type": "stream",
     "text": [
      "^TNX: 3927 rows downloaded\n",
      "CL=F: 3929 rows downloaded\n",
      "Total number of datasets: 14\n",
      "List of datasets: ['XLE', 'XLF', 'XLV', 'XLI', 'XLB', 'XLRE', 'XLK', 'XLC', 'XLY', 'XLP', 'XLU', 'SPY', '^TNX', 'CL=F']\n"
     ]
    }
   ],
   "source": [
    "# macro indicators\n",
    "for ticker, name in macro_indicator.items():\n",
    "  try:\n",
    "    ticker_data = yf.download(ticker,\n",
    "                              start = start_date,\n",
    "                              end = end_date,\n",
    "                              progress=False)\n",
    "    data[ticker] = ticker_data\n",
    "    print(f\"{ticker}: {len(ticker_data)} rows downloaded\")\n",
    "  except Exception as e:\n",
    "    print(f\"Error downloading {ticker}: {e}\")\n",
    "\n",
    "print(f\"Total number of datasets: {len(data)}\")\n",
    "print(f\"List of datasets: {list(data.keys())}\")"
   ]
  },
  {
   "cell_type": "code",
   "execution_count": 16,
   "metadata": {
    "colab": {
     "base_uri": "https://localhost:8080/"
    },
    "id": "wa_JuqeUnrvd",
    "outputId": "5f3f5031-af15-4989-bd62-0905db13cc51"
   },
   "outputs": [],
   "source": [
    "# extract adjusted close\n",
    "adj_close_prices = {}\n",
    "for ticker, ticker_data in data.items():\n",
    "    adj_close_prices[ticker] = ticker_data[('Close', ticker)]\n",
    "\n",
    "df_data = pd.DataFrame(adj_close_prices)"
   ]
  },
  {
   "cell_type": "code",
   "execution_count": 17,
   "metadata": {},
   "outputs": [],
   "source": [
    "# high yield credit spread (risk premium)\n",
    "# difference between safer bonds and junk bonds\n",
    "start_date_fred = datetime.datetime(2010,1,1)\n",
    "end_date_fred = datetime.datetime.now()\n",
    "\n",
    "\n",
    "# download the data from FRED using series ID\n",
    "fred_data = web.DataReader('BAMLH0A0HYM2', 'fred', start_date_fred, end_date_fred)\n",
    "fred_data.rename(columns={'BAMLH0A0HYM2': 'HY_SPREAD'}, inplace=True)\n",
    "\n",
    "df_data = df_data.merge(fred_data, left_index=True, right_index=True, how='left')"
   ]
  },
  {
   "cell_type": "code",
   "execution_count": 18,
   "metadata": {
    "colab": {
     "base_uri": "https://localhost:8080/"
    },
    "id": "HocK-tGjBp2Z",
    "outputId": "2caeaeec-34f0-4bda-804c-640568b91c1c"
   },
   "outputs": [
    {
     "name": "stdout",
     "output_type": "stream",
     "text": [
      "Missing values: \n",
      "XLC          2131\n",
      "XLRE         1453\n",
      "^TNX            4\n",
      "HY_SPREAD       3\n",
      "XLE             2\n",
      "XLF             2\n",
      "XLV             2\n",
      "XLI             2\n",
      "XLB             2\n",
      "XLK             2\n",
      "XLY             2\n",
      "XLP             2\n",
      "XLU             2\n",
      "SPY             2\n",
      "CL=F            2\n",
      "dtype: int64\n",
      "\n",
      "XLRE: 2015-10-08 00:00:00\n",
      "XLC: 2018-06-19 00:00:00\n"
     ]
    }
   ],
   "source": [
    "# check missing data\n",
    "missing_val = df_data.isnull().sum().sort_values(ascending=False)\n",
    "print(f\"Missing values: \\n{missing_val}\\n\")\n",
    "\n",
    "for ticker in df_data.columns:\n",
    "  # print if start date of data is later than expected\n",
    "  if df_data[ticker].first_valid_index() > pd.to_datetime('2010-01-04'):\n",
    "    print(f\"{ticker}: {df_data[ticker].first_valid_index()}\")"
   ]
  },
  {
   "cell_type": "markdown",
   "metadata": {
    "id": "aG33agJoEN9o"
   },
   "source": [
    "## Part 1-2\n",
    "\n",
    "### Missing data (XLC, XLRE)"
   ]
  },
  {
   "cell_type": "markdown",
   "metadata": {},
   "source": [
    "A significant data quality challenge was the incomplete history for the XLRE (real estate) and XLC (communication services) ETFs, which were launched in 2015 and 2018, respectively. A robust backtest requires a consistent dataset spanning the full 2010-present period.\n",
    "\n",
    "To address this, a synthetic price history was constructed for these ETFs using a proxy stitching methodology.\n",
    "\n",
    "1. Proxy selection: For each missing ETF, an older, highly-correlated proxy ETF was identified.\n",
    "    - for XLRE, IYR was chosen after a correlation analysis showed it was a better fit than other real estate ETFs.\n",
    "    - for XLC, VOX was selected due to its extremely high correlation with XLC post-launch.\n",
    "2. Price scaling & stitching: Rather than simply filling missing values, the entire historical price series of the proxy ETF was scaled. A scaling factor was calculated based on the price ratio between the proxy and the actual ETF on its luanch day. This ensures a seemless price transition without any sudden jumps.\n",
    "3. We believe this method is superior to simple imputation because it preserves the integrity of the historical volatility and daily percentage changes of the proxy asset. For a model that heavily relies on momentum, trend, and volatility features, maintaining this historical prices is crucial for generating meaningful signals.\n",
    "\n",
    "The verification plots below confirm that this process resulted in a smooth transition for both XLRE and XLC, providing a reliable foundation dataset for feature engineering.\n"
   ]
  },
  {
   "cell_type": "markdown",
   "metadata": {},
   "source": [
    "**XLRE**"
   ]
  },
  {
   "cell_type": "code",
   "execution_count": 19,
   "metadata": {
    "colab": {
     "base_uri": "https://localhost:8080/"
    },
    "id": "so0i14BVFgGL",
    "outputId": "a8554d37-9e4a-4a4f-aefe-1b1f0b84a979"
   },
   "outputs": [
    {
     "name": "stdout",
     "output_type": "stream",
     "text": [
      "VNQ: available from 2010-01-04\n",
      "IYR: available from 2010-01-04\n",
      "FREL: available from 2015-02-05\n",
      "SCHH: available from 2011-01-13\n"
     ]
    }
   ],
   "source": [
    "# checking real estate ETFs availability\n",
    "real_estate = ['VNQ','IYR','FREL','SCHH']\n",
    "available_etf = []\n",
    "\n",
    "for etf in real_estate:\n",
    "  try:\n",
    "    test_data = yf.download(etf,\n",
    "                            start = '2010-01-01',\n",
    "                            end = '2015-10-07',\n",
    "                            progress=False)\n",
    "    if not test_data.empty:\n",
    "      available_etf.append(etf)\n",
    "      print(f\"{etf}: available from {test_data.index.date.min()}\")\n",
    "    else:\n",
    "      print(f\"{etf}: not available\")\n",
    "  except Exception as e:\n",
    "    print(f\"Error downloading {etf}: {e}\")"
   ]
  },
  {
   "cell_type": "code",
   "execution_count": 20,
   "metadata": {
    "colab": {
     "base_uri": "https://localhost:8080/"
    },
    "id": "H512n8GvS8Yb",
    "outputId": "d2668b1c-7c35-467a-c2d3-e8d729462d32"
   },
   "outputs": [
    {
     "name": "stdout",
     "output_type": "stream",
     "text": [
      "Correlation between VNQ and XLRE: 0.988\n",
      "Correlation between IYR and XLRE: 0.991\n",
      "Correlation between VNQ returns and XLRE returns: 0.976\n",
      "Correlation between IYR returns and XLRE returns: 0.978\n"
     ]
    }
   ],
   "source": [
    "# choose between VNQ and IYR by comparing correlation with XLRE\n",
    "vnq = yf.download('VNQ',\n",
    "                  start = '2015-10-07',\n",
    "                  end = '2025-01-01',\n",
    "                  progress=False)\n",
    "iyr = yf.download('IYR',\n",
    "                  start = '2015-10-07',\n",
    "                  end = '2025-01-01',\n",
    "                  progress=False)\n",
    "xlre = yf.download('XLRE',\n",
    "                  start = '2015-10-07',\n",
    "                  end = '2025-01-01',\n",
    "                  progress=False)\n",
    "\n",
    "vnq_close = vnq['Close','VNQ']\n",
    "iyr_close = iyr['Close','IYR']\n",
    "xlre = df_data['XLRE'].loc['2015-10-07':'2025-01-01'].dropna()\n",
    "\n",
    "vnq_corr = vnq_close.corr(xlre)\n",
    "iyr_corr = iyr_close.corr(xlre)\n",
    "\n",
    "print(f\"Correlation between VNQ and XLRE: {vnq_corr:.3f}\")\n",
    "print(f\"Correlation between IYR and XLRE: {iyr_corr:.3f}\")\n",
    "\n",
    "vnq_return = vnq_close.pct_change().dropna()\n",
    "iyr_retutrn = iyr_close.pct_change().dropna()\n",
    "xlre_return = xlre.pct_change().dropna()\n",
    "\n",
    "vnq_ret_corr = vnq_return.corr(xlre_return)\n",
    "iyr_ret_corr = iyr_retutrn.corr(xlre_return)\n",
    "\n",
    "print(f\"Correlation between VNQ returns and XLRE returns: {vnq_ret_corr:.3f}\")\n",
    "print(f\"Correlation between IYR returns and XLRE returns: {iyr_ret_corr:.3f}\")"
   ]
  },
  {
   "cell_type": "code",
   "execution_count": 21,
   "metadata": {
    "id": "TEYxJ4eQsWwW"
   },
   "outputs": [],
   "source": [
    "# first day XLRE existed\n",
    "stitch_date_xlre = '2015-10-08'\n",
    "\n",
    "# proxy data up to (but not including) the stitch date\n",
    "iyr_prices = yf.download(\"IYR\", start='2010-01-01', end=stitch_date_xlre, progress=False)['Close'].squeeze()\n",
    "\n",
    "# real data from the stitch date onwards\n",
    "xlre_prices = yf.download(\"XLRE\", start=stitch_date_xlre, end=end_date, progress=False)['Close'].squeeze()\n",
    "\n",
    "# scaling factor\n",
    "scaling_factor_xlre = xlre_prices.iloc[0] / iyr_prices.iloc[-1]\n",
    "\n",
    "# scaling the entire proxy history\n",
    "scaled_iyr_history = iyr_prices * scaling_factor_xlre\n",
    "\n",
    "# result XLRE\n",
    "continuous_xlre = pd.concat([\n",
    "    scaled_iyr_history,\n",
    "    xlre_prices\n",
    "])\n",
    "\n",
    "df_data['XLRE'] = continuous_xlre"
   ]
  },
  {
   "cell_type": "code",
   "execution_count": 22,
   "metadata": {
    "colab": {
     "base_uri": "https://localhost:8080/",
     "height": 545
    },
    "id": "hOd3vdF_xTH9",
    "outputId": "0bb56ccd-07ec-4dc8-9d91-c79a5fd09a62"
   },
   "outputs": [
    {
     "data": {
      "image/png": "[encoded data removed]",
      "text/plain": [
       "<Figure size 1000x500 with 1 Axes>"
      ]
     },
     "metadata": {},
     "output_type": "display_data"
    }
   ],
   "source": [
    "# XLRE stitching verification plot\n",
    "plt.figure(figsize=(10,5))\n",
    "plt.plot(scaled_iyr_history, label='Scaled IYR Proxy')\n",
    "plt.plot(xlre_prices, label='Actual XLRE')\n",
    "plt.axvline(pd.to_datetime(stitch_date_xlre), color='red', linestyle=':',\n",
    "            label=f'Stitch Date: {stitch_date_xlre}')\n",
    "plt.title('Verification of XLRE Price History Stitching')\n",
    "plt.ylabel('Price')\n",
    "plt.legend()\n",
    "plt.show()"
   ]
  },
  {
   "cell_type": "markdown",
   "metadata": {},
   "source": [
    "**XLC**"
   ]
  },
  {
   "cell_type": "code",
   "execution_count": 23,
   "metadata": {
    "colab": {
     "base_uri": "https://localhost:8080/"
    },
    "id": "usYjoCuKnbdx",
    "outputId": "d2c00aee-5e6c-4ca2-a1b6-7b82ff9f1e0d"
   },
   "outputs": [
    {
     "name": "stdout",
     "output_type": "stream",
     "text": [
      "FCOM: available from 2013-10-24\n",
      "VOX: available from 2010-01-04\n",
      "IYZ: available from 2010-01-04\n"
     ]
    }
   ],
   "source": [
    "# checking telecommunication ETFs availability\n",
    "tele_comm = ['FCOM','VOX','IYZ']\n",
    "available_etf = []\n",
    "\n",
    "for etf in tele_comm:\n",
    "  try:\n",
    "    test_data = yf.download(etf,\n",
    "                            start = '2010-01-01',\n",
    "                            end = '2018-06-19',\n",
    "                            progress=False)\n",
    "    if not test_data.empty:\n",
    "      available_etf.append(etf)\n",
    "      print(f\"{etf}: available from {test_data.index.date.min()}\")\n",
    "    else:\n",
    "      print(f\"{etf}: not available\")\n",
    "  except Exception as e:\n",
    "    print(f\"Error downloading {etf}: {e}\")"
   ]
  },
  {
   "cell_type": "code",
   "execution_count": 24,
   "metadata": {
    "colab": {
     "base_uri": "https://localhost:8080/"
    },
    "id": "DJQCfpufnr3U",
    "outputId": "2647c923-4347-4dc1-e7a7-c30432257253"
   },
   "outputs": [
    {
     "name": "stdout",
     "output_type": "stream",
     "text": [
      "Correlation between VOX and XLC: 0.986\n",
      "Correlation between IYZ and XLC: 0.236\n",
      "Correlation between VOX returns and XLC returns: 0.987\n",
      "Correlation between IYZ returns and XLC returns: 0.767\n"
     ]
    }
   ],
   "source": [
    "# choose between VOX and IYZ by comparing correlation with XLRE\n",
    "vox = yf.download('VOX',\n",
    "                  start = '2018-06-18',\n",
    "                  end = '2025-01-01',\n",
    "                  progress=False)\n",
    "iyz = yf.download('IYZ',\n",
    "                  start = '2018-06-18',\n",
    "                  end = '2025-01-01',\n",
    "                  progress=False)\n",
    "xlc = yf.download('XLC',\n",
    "                  start = '2018-06-18',\n",
    "                  end = '2025-01-01',\n",
    "                  progress=False)\n",
    "\n",
    "vox_close = vox['Close','VOX']\n",
    "iyz_close = iyz['Close','IYZ']\n",
    "xlc = df_data['XLC'].loc['2018-06-18':'2025-01-01'].dropna()\n",
    "\n",
    "vox_corr = vox_close.corr(xlc)\n",
    "iyz_corr = iyz_close.corr(xlc)\n",
    "\n",
    "print(f\"Correlation between VOX and XLC: {vox_corr:.3f}\")\n",
    "print(f\"Correlation between IYZ and XLC: {iyz_corr:.3f}\")\n",
    "\n",
    "vox_return = vox_close.pct_change().dropna()\n",
    "iyz_return = iyz_close.pct_change().dropna()\n",
    "xlc_return = xlc.pct_change().dropna()\n",
    "\n",
    "vox_ret_corr = vox_return.corr(xlc_return)\n",
    "iyz_ret_corr = iyz_return.corr(xlc_return)\n",
    "\n",
    "print(f\"Correlation between VOX returns and XLC returns: {vox_ret_corr:.3f}\")\n",
    "print(f\"Correlation between IYZ returns and XLC returns: {iyz_ret_corr:.3f}\")"
   ]
  },
  {
   "cell_type": "code",
   "execution_count": 25,
   "metadata": {
    "id": "-4xl8hTxrviZ"
   },
   "outputs": [],
   "source": [
    "# scaling proxy etfs to mathc XLC price\n",
    "\n",
    "# first day XLC existed\n",
    "stitch_date_xlc = '2018-06-19'\n",
    "\n",
    "# proxy data up to (but not including) the stitch date\n",
    "vox_prices = yf.download(\"VOX\", start='2010-01-01', end=stitch_date_xlc, progress=False)['Close'].squeeze()\n",
    "\n",
    "# real data from the stitch date onwards\n",
    "xlc_prices = yf.download(\"XLC\", start=stitch_date_xlc, end=end_date, progress=False)['Close'].squeeze()\n",
    "\n",
    "# scaling using the last day of the proxy and first day of the real asset\n",
    "scaling_factor_xlc = xlc_prices.iloc[0] / vox_prices.iloc[-1]\n",
    "\n",
    "# scaling the entire proxy history\n",
    "scaled_vox_history = vox_prices * scaling_factor_xlc\n",
    "\n",
    "# result XLC\n",
    "continuous_xlc = pd.concat([\n",
    "    scaled_vox_history,\n",
    "    xlc_prices\n",
    "])\n",
    "\n",
    "df_data['XLC'] = continuous_xlc"
   ]
  },
  {
   "cell_type": "code",
   "execution_count": 26,
   "metadata": {
    "colab": {
     "base_uri": "https://localhost:8080/",
     "height": 564
    },
    "id": "yPszFVSCyZWL",
    "outputId": "2618c573-e65d-4864-f6cf-078ab843129d"
   },
   "outputs": [
    {
     "data": {
      "image/png": "[encoded data removed]",
      "text/plain": [
       "<Figure size 1000x500 with 1 Axes>"
      ]
     },
     "metadata": {},
     "output_type": "display_data"
    }
   ],
   "source": [
    "# XLC stitching verification plot\n",
    "plt.figure(figsize=(10,5))\n",
    "plt.plot(scaled_vox_history, label='Scaled VOX Proxy', linestyle='--')\n",
    "plt.plot(xlc_prices, label='Actual XLC')\n",
    "plt.axvline(pd.to_datetime(stitch_date_xlc), color='red', linestyle=':',\n",
    "            label=f'Stitch Date: {stitch_date_xlc}')\n",
    "plt.title('Verification of XLC Price History Stitching')\n",
    "plt.xlabel('Date')\n",
    "plt.ylabel('Price')\n",
    "plt.legend()\n",
    "plt.show()"
   ]
  },
  {
   "cell_type": "code",
   "execution_count": 27,
   "metadata": {
    "colab": {
     "base_uri": "https://localhost:8080/"
    },
    "id": "r5ZLfpPvkM-s",
    "outputId": "5708f2f9-7a1f-4f1a-b730-7c7c6fbaccaa"
   },
   "outputs": [
    {
     "name": "stdout",
     "output_type": "stream",
     "text": [
      "Combined Raw Data\n",
      "Shape of Combined Raw Data: (3931, 15)\n",
      "Data range: 2010-01-04 00:00:00 to 2025-08-15 00:00:00\n",
      "Missing values: 33\n",
      "Columns: ['XLE', 'XLF', 'XLV', 'XLI', 'XLB', 'XLRE', 'XLK', 'XLC', 'XLY', 'XLP', 'XLU', 'SPY', '^TNX', 'CL=F', 'HY_SPREAD']\n"
     ]
    },
    {
     "data": {
      "text/plain": [
       "(                  XLE       XLF        XLV        XLI        XLB       XLRE  \\\n",
       " Date                                                                          \n",
       " 2010-01-04  35.357685  9.049462  24.296616  21.140421  24.379667  10.800116   \n",
       " 2010-01-05  35.646275  9.215789  24.058338  21.215075  24.458498  10.826043   \n",
       " 2010-01-06  36.073132  9.234267  24.304304  21.259869  24.874146  10.821328   \n",
       " \n",
       "                   XLK        XLC        XLY        XLP        XLU        SPY  \\\n",
       " Date                                                                           \n",
       " 2010-01-04  18.833548  24.414901  24.759163  17.607048  18.151886  85.515648   \n",
       " 2010-01-05  18.809267  24.579864  24.849949  17.613655  17.935787  85.741989   \n",
       " 2010-01-06  18.598837  24.190708  24.882956  17.600454  18.040916  85.802376   \n",
       " \n",
       "              ^TNX       CL=F  HY_SPREAD  \n",
       " Date                                     \n",
       " 2010-01-04  3.841  81.510002       6.34  \n",
       " 2010-01-05  3.755  81.769997       6.30  \n",
       " 2010-01-06  3.808  83.180000       6.17  ,\n",
       "                   XLE        XLF         XLV         XLI        XLB  \\\n",
       " Date                                                                  \n",
       " 2025-08-13  85.639999  52.759998  133.289993  152.479996  90.980003   \n",
       " 2025-08-14  85.559998  53.009998  133.960007  151.130005  90.029999   \n",
       " 2025-08-15  85.559998  52.459999  136.210007  150.440002  90.029999   \n",
       " \n",
       "                  XLRE         XLK         XLC         XLY        XLP  \\\n",
       " Date                                                                   \n",
       " 2025-08-13  41.349998  268.309998  111.110001  229.850006  82.629997   \n",
       " 2025-08-14  41.060001  267.730011  111.199997  229.589996  81.889999   \n",
       " 2025-08-15  41.330002  265.700012  111.480003  229.039993  82.019997   \n",
       " \n",
       "                   XLU         SPY   ^TNX       CL=F  HY_SPREAD  \n",
       " Date                                                            \n",
       " 2025-08-13  86.470001  644.890015  4.238  62.650002       2.90  \n",
       " 2025-08-14  85.870003  644.950012  4.293  63.959999       2.89  \n",
       " 2025-08-15  85.620003  643.440002  4.328  62.799999        NaN  )"
      ]
     },
     "execution_count": 27,
     "metadata": {},
     "output_type": "execute_result"
    }
   ],
   "source": [
    "# check combined raw data\n",
    "quick_data_check(df_data, \"Combined Raw Data\")"
   ]
  },
  {
   "cell_type": "code",
   "execution_count": 28,
   "metadata": {
    "id": "S8XnsVXC3xbQ"
   },
   "outputs": [],
   "source": [
    "# preserve the raw data\n",
    "df_data.to_csv('sector_rotation_raw.csv')"
   ]
  },
  {
   "cell_type": "markdown",
   "metadata": {
    "id": "sRsyFcgTfFnW"
   },
   "source": [
    "## Part 2-1\n",
    "\n",
    "### Feature set engineering"
   ]
  },
  {
   "cell_type": "markdown",
   "metadata": {},
   "source": [
    "**Feature category**\n",
    "1. **Sector focused features (per sector ETF)**\n",
    "- These features are designed to capture the individual characteristics and recent behavior of each sector.\n",
    "\n",
    "    - **Monemtum** (63-day & 252-day average return):\n",
    "        - Implementation: Log return over the past 63 and 252 trading days.\n",
    "        - Why used: Momentum effects in equity markets suggest sectors with recent outperformance tend to persist in their trajectory in the short to medium term. The two timeframes capture both quarterly momentum and the longer, yearly underlying trend.\n",
    "    - **Volatility** (63-day)\n",
    "        - Implementation: Annualized standard deviation of daily returns over the past 63 days.\n",
    "        - Why used: This is a direct measure of risk. The model may learn that perioids of either low or high volatility can precede outperformance. For example, low volatility may signal a stable uptrend, while high volatility might offer a risk premium.\n",
    "    - **Sharpe ratio** (63-day):\n",
    "        - Implementation: The annualized 63-day rolling return divided by the 63-day rolling volatility.\n",
    "        - Why used: This provides a measure of risk-adjusted return. The model is expected to favor sectors that generate higher returns for the amount of risk taken, as these are theoretically more attractive investment candidates.\n",
    "\n",
    "2. **Macroeconomic focused**\n",
    "- These global features provide context about the overall market environment, which heavily influences which sectors are in favor.\n",
    "\n",
    "    - **Market regime** (SPY vs. 200-day MA):\n",
    "        - Implementation: A binary flag that is 1 if the SPY's price is above 200-day moving average and 0 otherwise.\n",
    "        - Why used: This acts as a broad market regime filter. The leadership and effectiveness of sector rotation strategies are known to differ significantly between bull and bear markets.\n",
    "    - **Interest rate level** (10-year treasury yield):\n",
    "        - Implementation: The absolute yield on the 10-year treasury note (^TNX).\n",
    "        - Why used: Interest rate levels directly impact sector profitability. For example, rising rates tend to benefit the financial sector due to wider lending margins, while typically providing a headwind for rate-sensitive, high-dividend sectors like utilities and real estate.\n",
    "    - **High-yield credit spread**:\n",
    "        - Implementation: The spread between high-yield corporate bonds and risk-free government bonds.\n",
    "        - Why used: This is a barometer of market risk appetite. A widening spread signals \"risk-off\", which should precede underperformance in cyclical sectors and relative outperformance in defensive sectors.\n",
    "    - **Oil price momentum** (63-day):\n",
    "        - Implementation: 63-day rolling return for WTI Crude Oil (CL=F).\n",
    "        - Why used: This is primarily included for its strong, direct influence on the energy sector, but it also serves as a proxy for inflationary pressures that can have effects on materials and industirals.\n",
    "    \n",
    "3. **Relative strength feature**\n",
    "\n",
    "    - **Cross-sectional rank** (63-day return):\n",
    "        - Implementation: A monthly rank (from 1 to 11) of each sector based on its 63-day momentum relative to its peers.\n",
    "        - Why used: This isolates relative strength from general market beta. It is based on the cross-sectional momentum, which hypothesizes that the outperforming assets in a universe are likely to continue leading, while the worst performers continue to lag."
   ]
  },
  {
   "cell_type": "code",
   "execution_count": null,
   "metadata": {
    "colab": {
     "base_uri": "https://localhost:8080/"
    },
    "id": "VtxefRendxPA",
    "outputId": "ebc96abe-34cb-4c78-c6c9-d1b0e50204a5"
   },
   "outputs": [],
   "source": [
    "# load and check duplicates\n",
    "df = pd.read_csv('sector_rotation_raw.csv')\n",
    "\n",
    "print(f\"Total rows: {len(df)}\")\n",
    "print(f\"Unique dates: {df['Date'].nunique()}\")\n",
    "\n",
    "duplicate_dates = df[df['Date'].duplicated(keep=False)]\n",
    "if not duplicate_dates.empty:\n",
    "    print(duplicate_dates[['Date']].sort_values('Date'))"
   ]
  },
  {
   "cell_type": "code",
   "execution_count": null,
   "metadata": {
    "id": "etqPgVRymUiH"
   },
   "outputs": [],
   "source": [
    "# prepare dataset\n",
    "df['Date'] = pd.to_datetime(df['Date'])\n",
    "df.set_index('Date', inplace=True)\n",
    "\n",
    "sectors = ['XLE', 'XLF', 'XLV', 'XLI', 'XLB', 'XLRE',\n",
    "           'XLK', 'XLC', 'XLY', 'XLP', 'XLU']"
   ]
  },
  {
   "cell_type": "code",
   "execution_count": null,
   "metadata": {
    "id": "5BS2bz7pmmq4"
   },
   "outputs": [],
   "source": [
    "def create_feature_a(df, sectors):\n",
    "  features_df = pd.DataFrame(index=df.index)\n",
    "\n",
    "  for sector in sectors:\n",
    "    prices = df[sector]\n",
    "    returns = prices.pct_change()\n",
    "    # return 63 days (3 month momentum)\n",
    "    features_df[f'{sector}_return_63d'] = prices.pct_change(63)\n",
    "    # return 252 days (1 year trend)\n",
    "    features_df[f'{sector}_return_252d'] = prices.pct_change(252)\n",
    "    # volatility 63 days (3 month volatility)\n",
    "    features_df[f'{sector}_volatility_63d'] = returns.rolling(63).std() * np.sqrt(252)\n",
    "\n",
    "    rolling_return = returns.rolling(63).mean()*252\n",
    "    rolling_vol = returns.rolling(63).std()*np.sqrt(252)\n",
    "    # sharpe 63 days (risk adjusted return)\n",
    "    features_df[f'{sector}_sharpe_63d'] = rolling_return / rolling_vol\n",
    "\n",
    "  # ranking by return 63 days (cross sectional relative strength)\n",
    "  return_63d_cols = [col for col in features_df.columns if 'return_63d' in col]\n",
    "  rank_df = features_df[return_63d_cols].rank(axis=1, method='min')\n",
    "  for i, sector in enumerate(sectors):\n",
    "    if f'{sector}_return_63d' in rank_df.columns:\n",
    "      features_df[f'{sector}_rank_return_63d'] = rank_df[f'{sector}_return_63d']\n",
    "\n",
    "  spy_200ma = df['SPY'].rolling(200).mean()\n",
    "  # regime filter (if spy was above 200 day ma)\n",
    "  features_df['spy_above_200ma'] = (df['SPY'] > spy_200ma).astype(int)\n",
    "  # energy sector specifiec feature (oil price momentum)\n",
    "  features_df['oil_price_momentum_63d'] = df['CL=F'].pct_change(63)\n",
    "  # interest rate level\n",
    "  features_df['treasury_10y_level'] = df['^TNX']\n",
    "  # high yield credit spread (credit risk measure)\n",
    "  features_df['hy_credit_spread'] = df['HY_SPREAD']\n",
    "\n",
    "  return features_df"
   ]
  },
  {
   "cell_type": "code",
   "execution_count": null,
   "metadata": {
    "colab": {
     "base_uri": "https://localhost:8080/"
    },
    "id": "QbQ9F6ne2OHl",
    "outputId": "90c50fe6-084a-4634-f6bd-305534f54cc6"
   },
   "outputs": [],
   "source": [
    "features_a = create_feature_a(df, sectors)"
   ]
  },
  {
   "cell_type": "markdown",
   "metadata": {
    "id": "Xc2r4_5DofF2"
   },
   "source": [
    "- feature set B will be mentioned in future work/steps"
   ]
  },
  {
   "cell_type": "markdown",
   "metadata": {
    "id": "4S-U1HQVoAHP"
   },
   "source": [
    "## Part 2-1-1\n",
    "\n",
    "### Exploratory data analysis: Features"
   ]
  },
  {
   "cell_type": "code",
   "execution_count": null,
   "metadata": {
    "colab": {
     "base_uri": "https://localhost:8080/",
     "height": 699
    },
    "id": "L6i6nREqoLvR",
    "outputId": "feccfcfd-2307-4065-e193-2015c409ea08"
   },
   "outputs": [],
   "source": [
    "# correlation heatmap\n",
    "\n",
    "sector_returns = df[sectors].pct_change().dropna()\n",
    "corr_mat = sector_returns.corr()\n",
    "\n",
    "plt.figure(figsize=(9,7))\n",
    "sns.heatmap(corr_mat, annot=True, cmap='Blues', fmt='.2f', linewidth=.5)\n",
    "plt.title('Correlation Matrix of Daily Sector ETF Returns')\n",
    "plt.show()"
   ]
  },
  {
   "cell_type": "code",
   "execution_count": null,
   "metadata": {
    "colab": {
     "base_uri": "https://localhost:8080/"
    },
    "id": "0nfNZWvL7bVE",
    "outputId": "029b3405-3665-4ff2-987d-af9bd7643f1b"
   },
   "outputs": [],
   "source": [
    "# average sector correlation (daily returns)\n",
    "mean_corr = (corr_mat.sum()-1)/(len(sectors)-1)\n",
    "print(f\"Mean correlation: \\n{mean_corr.round(3).sort_values(ascending=True)}\")"
   ]
  },
  {
   "cell_type": "markdown",
   "metadata": {
    "id": "d-0PbLuI4Cpg"
   },
   "source": [
    "- All sectors are moderately to highly correlated with each other.\n",
    "- Most sectors move in the same direction.\n",
    "- Predictng relative sector performance is likely to be difficult.\n",
    "- Combining less correlated assets might reduce overall risk. if one sector goes down, less correlated sectors are less likely to follow.\n",
    "- Future strategy could attempt to rotate between defensive and cyclical sectors such as XLU, XLP, XLE, XLK, and XLI."
   ]
  },
  {
   "cell_type": "code",
   "execution_count": null,
   "metadata": {
    "colab": {
     "base_uri": "https://localhost:8080/",
     "height": 333
    },
    "id": "gp51dLc3oLsi",
    "outputId": "d0f7453b-650f-4a52-eca4-609a5376abd1"
   },
   "outputs": [],
   "source": [
    "# feature distribution (XLE 63-day return)\n",
    "plt.figure(figsize=(8,4))\n",
    "plt.hist(features_a['XLE_return_63d'].dropna(), bins=50,\n",
    "         color='steelblue', edgecolor='white')\n",
    "plt.title('Distribution of XLE 63-Day Rolling Return (Momentum Feature)')\n",
    "plt.xlabel('63-Day Return (%)')\n",
    "plt.ylabel('Frequency')\n",
    "plt.axvline(features_a['XLE_return_63d'].mean(), color='coral',\n",
    "            linestyle='--', label='Mean')\n",
    "plt.legend()\n",
    "plt.show()"
   ]
  },
  {
   "cell_type": "code",
   "execution_count": null,
   "metadata": {
    "colab": {
     "base_uri": "https://localhost:8080/",
     "height": 333
    },
    "id": "W1xeE-3boMFZ",
    "outputId": "f42df4d8-8522-4856-90c9-453faa2ca513"
   },
   "outputs": [],
   "source": [
    "# feature distribution (XLI 63-day return)\n",
    "plt.figure(figsize=(8,4))\n",
    "plt.hist(features_a['XLI_return_63d'].dropna(), bins=50,\n",
    "         color='steelblue', edgecolor='white')\n",
    "#sns.histplot(features_a['XLE_return_63d'].dropna(), kde=True, bins=50,color='steelblue')\n",
    "plt.title('Distribution of XLI 63-Day Rolling Return (Momentum Feature)')\n",
    "plt.xlabel('63-Day Return (%)')\n",
    "plt.ylabel('Frequency')\n",
    "plt.axvline(features_a['XLI_return_63d'].mean(), color='coral',\n",
    "            linestyle='--', label='Mean')\n",
    "plt.legend()\n",
    "plt.show()"
   ]
  },
  {
   "cell_type": "markdown",
   "metadata": {
    "id": "0gZUc6TTDDbf"
   },
   "source": [
    "- XLE: Lower correlation due to its own unique and highly volatile factors like oil prices. this creates the potential for much wider and more extreme return swings.\n",
    "- XLI: Highly correlated sector and returns are more in-line with the general market. Results in a tighter and more predictable distribution of returns"
   ]
  },
  {
   "cell_type": "markdown",
   "metadata": {
    "id": "iqYU8JEdMOSn"
   },
   "source": [
    "## Part 2-2\n",
    "\n",
    "### Target engineering"
   ]
  },
  {
   "cell_type": "markdown",
   "metadata": {},
   "source": [
    "Target variable\n",
    "- 21-day forward log return per sector: Monthly return was chosen to avoid market noise "
   ]
  },
  {
   "cell_type": "code",
   "execution_count": null,
   "metadata": {
    "id": "0sJHNPIv5r57"
   },
   "outputs": [],
   "source": [
    "# 21 day forward log returns for each sector\n",
    "def create_forward_return(df, sectors):\n",
    "  target_df = pd.DataFrame(index=df.index)\n",
    "  for sector in sectors:\n",
    "    if sector in df.columns:\n",
    "      # 21 day forward log returns\n",
    "      future_price = df[sector].shift(-21)\n",
    "      current_price = df[sector]\n",
    "      # log returns\n",
    "      target_df[f'{sector}_return_21d_forward'] = np.log(future_price / current_price)\n",
    "\n",
    "  return target_df"
   ]
  },
  {
   "cell_type": "code",
   "execution_count": null,
   "metadata": {
    "colab": {
     "base_uri": "https://localhost:8080/"
    },
    "id": "gI0sRNTQNTsi",
    "outputId": "c52c9ec4-c717-4655-aed1-2d831da31a97"
   },
   "outputs": [],
   "source": [
    "targets = create_forward_return(df, sectors)"
   ]
  },
  {
   "cell_type": "markdown",
   "metadata": {
    "id": "vHVGNosbWPPN"
   },
   "source": [
    "## Part 3-1\n",
    "\n",
    "### Dataset preparation"
   ]
  },
  {
   "cell_type": "code",
   "execution_count": null,
   "metadata": {
    "colab": {
     "base_uri": "https://localhost:8080/"
    },
    "id": "m6euYA-saVEG",
    "outputId": "4b5dd163-f032-4e18-fcb7-bd31ff933c23"
   },
   "outputs": [],
   "source": [
    "# merging features and targets\n",
    "features_a['Date'] = pd.to_datetime(features_a.index)\n",
    "features_a.set_index('Date', inplace=True)\n",
    "targets['Date'] = pd.to_datetime(targets.index)\n",
    "targets.set_index('Date', inplace=True)\n",
    "\n",
    "data_a = features_a.merge(targets, left_index=True, right_index=True, how='inner')\n",
    "\n",
    "print(f\"Features A shape: {data_a.shape}\")\n",
    "print(f\"Data A shape: {data_a.shape}\")"
   ]
  },
  {
   "cell_type": "code",
   "execution_count": null,
   "metadata": {
    "colab": {
     "base_uri": "https://localhost:8080/"
    },
    "id": "yq600w0mLXjc",
    "outputId": "8f80bc9f-1362-453e-83ab-ad6082886da2"
   },
   "outputs": [],
   "source": [
    "# checking infinite values\n",
    "numeric_cols = data_a.select_dtypes(include=[np.number]).columns\n",
    "inf_ct = []\n",
    "for col in numeric_cols:\n",
    "  if data_a[col].isin([np.inf, -np.inf]).any():\n",
    "    inf_ct.append(col)\n",
    "print(f\"Infinite values: {inf_ct}\")\n",
    "if not inf_ct:\n",
    "  print(\"No infinite values\")"
   ]
  },
  {
   "cell_type": "code",
   "execution_count": null,
   "metadata": {
    "colab": {
     "base_uri": "https://localhost:8080/"
    },
    "id": "82MkACWYLXl9",
    "outputId": "d0d3dc43-34a1-415c-a7f1-365151981670"
   },
   "outputs": [],
   "source": [
    "# checking outliers\n",
    "for col in numeric_cols:\n",
    "  q1 = data_a[col].quantile(.01)\n",
    "  q99 = data_a[col].quantile(.99)\n",
    "  outlier_low = (data_a[col] < q1).sum()\n",
    "  outlier_high = (data_a[col] > q99).sum()\n",
    "  total_outliers = outlier_low + outlier_high\n",
    "  if total_outliers > 0:\n",
    "    print(f\"{col}: {total_outliers} outliers\")\n",
    "  else:\n",
    "    print(f\"{col}: no outliers\")"
   ]
  },
  {
   "cell_type": "code",
   "execution_count": null,
   "metadata": {
    "colab": {
     "base_uri": "https://localhost:8080/"
    },
    "id": "o95Ch3VclNd9",
    "outputId": "c5e1357b-89ef-4bac-a461-9652f5e25f90"
   },
   "outputs": [],
   "source": [
    "q1 = data_a['XLE_return_63d'].quantile(.01)\n",
    "q99 = data_a['XLE_return_63d'].quantile(.99)\n",
    "print(f\"Max loss: {q1}\")\n",
    "print(f\"Max gain: {q99}\")\n",
    "\n",
    "outlier_mask = (data_a['XLE_return_63d'] < q1) | (data_a['XLE_return_63d'] > q99)\n",
    "outliers_dates = data_a[outlier_mask].index\n",
    "print(f\"Outliers dates: \\n{outliers_dates}\")"
   ]
  },
  {
   "cell_type": "markdown",
   "metadata": {
    "id": "FshGn2N4pAR-"
   },
   "source": [
    "- Outlier dates are valid ones.\n",
    "- In March-June 2020, market experienced COVID crash and recovery\n",
    "- In early 2021, market volatility went up with GameStop and meme stock boom\n",
    "- In March-April 2022, Russia invaded Ukraine provoking inflation fears"
   ]
  },
  {
   "cell_type": "code",
   "execution_count": null,
   "metadata": {
    "colab": {
     "base_uri": "https://localhost:8080/"
    },
    "id": "cjYBjIKPm8nT",
    "outputId": "4ebe6c80-7a62-44f0-df9b-5c5e262dfce6"
   },
   "outputs": [],
   "source": [
    "# missing values\n",
    "missing_ct = data_a.isnull().sum().sort_values(ascending=False)\n",
    "print(f\"Missing values: \\n{missing_ct}\\n\")\n",
    "missing_pct = missing_ct / len(data_a) * 100\n",
    "print(f\"Missing values percentage: \\n{missing_pct}\\n\")"
   ]
  },
  {
   "cell_type": "code",
   "execution_count": null,
   "metadata": {
    "colab": {
     "base_uri": "https://localhost:8080/"
    },
    "id": "2B19Vr9cm9Cr",
    "outputId": "6dcc4431-0ea2-4cef-dcf5-daf4c6809332"
   },
   "outputs": [],
   "source": [
    "total_missing = missing_ct.sum()\n",
    "print(f\"Total missing values: {total_missing}\")\n",
    "print(f\"Total cells in dataset: {len(data_a) * len(data_a.columns)}\")\n",
    "print(f\"Percentage of missing values: {total_missing / (len(data_a) * len(data_a.columns)) * 100:.2f}%\")"
   ]
  },
  {
   "cell_type": "code",
   "execution_count": null,
   "metadata": {
    "colab": {
     "base_uri": "https://localhost:8080/"
    },
    "id": "_CsRQia_xSzN",
    "outputId": "b2fb13c0-2ca1-4bf7-befb-a7ba1b61455c"
   },
   "outputs": [],
   "source": [
    "# forward filling missing values up to next 5 days\n",
    "# assuming the last known price persists until new information arrives\n",
    "# fills small gaps due to holidays or short data interruptions\n",
    "data_a_filled = data_a.fillna(method='ffill', limit=5)\n",
    "print(f\"Missing values before forward-fill: {total_missing}\")\n",
    "print(f\"Missing values after forward-fill: {data_a_filled.isnull().sum().sum()}\")"
   ]
  },
  {
   "cell_type": "code",
   "execution_count": null,
   "metadata": {
    "colab": {
     "base_uri": "https://localhost:8080/"
    },
    "id": "liQMJsH6tt2P",
    "outputId": "47fec2b4-271d-4bb2-f73e-75be47b328ce"
   },
   "outputs": [],
   "source": [
    "df_clean = data_a_filled.dropna()\n",
    "print(f\"Before cleaning: {data_a_filled.shape}\")\n",
    "print(f\"After cleaning: {df_clean.shape}\")\n",
    "print(f\"Data range: {df_clean.index.date.min()} to {df_clean.index.date.max()}\")"
   ]
  },
  {
   "cell_type": "markdown",
   "metadata": {
    "id": "qbFTjzR38cKn"
   },
   "source": [
    "## Part 3-2\n",
    "\n",
    "### Timeline setup"
   ]
  },
  {
   "cell_type": "markdown",
   "metadata": {
    "id": "RekXnyo98lJL"
   },
   "source": [
    "A strict T-2 timeline will be used to prevent look-ahead bias.\n",
    "- Predictions are generated two days before month end and trades are executed on the last trading day of the month."
   ]
  },
  {
   "cell_type": "code",
   "execution_count": null,
   "metadata": {
    "colab": {
     "base_uri": "https://localhost:8080/"
    },
    "id": "Wg9D94fS8j17",
    "outputId": "69141246-c1e9-41a1-da3e-da3e68488cdc"
   },
   "outputs": [],
   "source": [
    "month_ends = df_clean.resample('BM').last().index\n",
    "t2_dates = month_ends - pd.tseries.offsets.BDay(2)\n",
    "df_t2 = df_clean.loc[df_clean.index.isin(t2_dates)]\n",
    "\n",
    "print(f\"Original datast: {len(df_clean)} observations\")\n",
    "print(f\"T-2 dataset: {len(df_t2)} observations\")\n",
    "print(f\"Date range: {df_t2.index.date.min()} to {df_t2.index.date.max()}\")"
   ]
  },
  {
   "cell_type": "markdown",
   "metadata": {
    "id": "4iTjHYL896OY"
   },
   "source": [
    "## Part 3-3\n",
    "\n",
    "### Walk forward validation"
   ]
  },
  {
   "cell_type": "markdown",
   "metadata": {
    "id": "EigKYMTF-dB_"
   },
   "source": [
    "- The model will be tested using an expanding window, retrained monthly, with a minimum initial training period of 36 months.\n",
    "- The model will be always tested on unseen data."
   ]
  },
  {
   "cell_type": "code",
   "execution_count": null,
   "metadata": {
    "colab": {
     "base_uri": "https://localhost:8080/"
    },
    "id": "0pwL_CFk9H2o",
    "outputId": "935fd9e6-2b10-44fa-a219-9826ede3382b"
   },
   "outputs": [],
   "source": [
    "# minimum training window = 36 months\n",
    "min_train_month = 36\n",
    "start_idx = min_train_month - 1\n",
    "\n",
    "# walk forward validation\n",
    "results = []\n",
    "for i in range(start_idx, len(df_t2)):\n",
    "  # expanding window from start to current by 1 month\n",
    "  train_data = df_t2.iloc[:i+1]\n",
    "\n",
    "  # next month\n",
    "  if i + 1 < len(df_t2):\n",
    "    test_data = df_t2.iloc[i+1:i+2]\n",
    "    results.append({\n",
    "        'train_end': train_data.index.date[-1],\n",
    "        'test_date': test_data.index.date[0],\n",
    "        'train_size': len(train_data)\n",
    "    })\n",
    "\n",
    "print(f\"Total prediction: {len(results)}\")\n",
    "print(f\"First prediction: {results[0]['test_date']}\")\n",
    "print(f\"Last prediction: {results[-1]['test_date']}\")"
   ]
  },
  {
   "cell_type": "markdown",
   "metadata": {
    "id": "5ufvyT_ZAZ8o"
   },
   "source": [
    "- 1st prediction: Train on 36 months (2011-2014), predict Feb 2014\n",
    "- 2nd prediction: Train on 37 months (2011-2014), predict Mar 2014\n",
    "- continues as long as data is available"
   ]
  },
  {
   "cell_type": "code",
   "execution_count": null,
   "metadata": {
    "id": "hIiPd7NF_9Yt"
   },
   "outputs": [],
   "source": [
    "results_df = pd.DataFrame(results)"
   ]
  },
  {
   "cell_type": "markdown",
   "metadata": {
    "id": "TbpaJIKHBPRa"
   },
   "source": [
    "## Part 4-1\n",
    "\n",
    "### Random Forest Model"
   ]
  },
  {
   "cell_type": "code",
   "execution_count": null,
   "metadata": {
    "colab": {
     "base_uri": "https://localhost:8080/"
    },
    "id": "0sgGN7MqBUM4",
    "outputId": "346feda4-f22d-4452-b186-f44929d7b43f"
   },
   "outputs": [],
   "source": [
    "# random forest\n",
    "# separating target and features\n",
    "feature_cols = [col for col in df_t2.columns if not col.endswith('_return_21d_forward')]\n",
    "target_cols = [col for col in df_t2.columns if col.endswith('_return_21d_forward')]\n",
    "\n",
    "rf_mod = RandomForestRegressor(n_estimators=100,\n",
    "                               random_state=42,\n",
    "                               max_depth=3)\n",
    "scaler = StandardScaler()\n",
    "rf_pred = []\n",
    "\n",
    "for i, result in enumerate(results):\n",
    "  # training data\n",
    "  train_data = df_t2.iloc[:start_idx + i + 1]\n",
    "  X_train = scaler.fit_transform(train_data[feature_cols])\n",
    "  y_train = train_data[target_cols].values\n",
    "\n",
    "  # testing data\n",
    "  test_data = df_t2.iloc[start_idx + i + 1:start_idx + i + 2]\n",
    "  X_test = scaler.transform(test_data[feature_cols])\n",
    "\n",
    "  # predict\n",
    "  rf_mod.fit(X_train, y_train)\n",
    "  pred = rf_mod.predict(X_test)\n",
    "\n",
    "  # results\n",
    "  sector_dict = dict(zip([col.replace('_return_21d_forward','') for col in target_cols], pred[0]))\n",
    "  rf_pred.append({'date': result['test_date'], **sector_dict})\n",
    "\n",
    "print(f\"Total predictions: {len(rf_pred)}\")\n",
    "print(f\"First prediction: {rf_pred[0]['date']}\")\n",
    "print(f\"Last prediction: {rf_pred[-1]['date']}\")"
   ]
  },
  {
   "cell_type": "code",
   "execution_count": null,
   "metadata": {
    "colab": {
     "base_uri": "https://localhost:8080/"
    },
    "id": "YW-4nU72MiRS",
    "outputId": "e961c3cb-802c-4215-825f-5266500b3917"
   },
   "outputs": [],
   "source": [
    "# rankings\n",
    "rf_pred_df = pd.DataFrame(rf_pred)\n",
    "rf_pred_df.set_index('date', inplace=True)\n",
    "\n",
    "rf_rankings = rf_pred_df.rank(axis=1, ascending=False)\n",
    "\n",
    "print(\"Predicted returns:\")\n",
    "print(rf_pred_df.head(3))\n"
   ]
  },
  {
   "cell_type": "code",
   "execution_count": null,
   "metadata": {
    "colab": {
     "base_uri": "https://localhost:8080/"
    },
    "id": "DwuVg6OQNEKG",
    "outputId": "953604fe-baf0-41cd-d60f-75174a3b28b8"
   },
   "outputs": [],
   "source": [
    "# actual returns\n",
    "actual_returns_df = df_t2[target_cols].copy()\n",
    "actual_returns_df.columns = [col.replace('_return_21d_forward','') for col in target_cols]\n",
    "actual_returns_df = actual_returns_df.loc[rf_pred_df.index]\n",
    "actual_returns_rankings = actual_returns_df.rank(axis=1, ascending=False)\n",
    "\n",
    "print(\"Actual returns:\")\n",
    "print(actual_returns_df.head(3))\n"
   ]
  },
  {
   "cell_type": "code",
   "execution_count": null,
   "metadata": {},
   "outputs": [],
   "source": [
    "# compare predictions and actual rankings\n",
    "print(\"\\nPredicted rankings:\")\n",
    "print(rf_rankings.head(3))\n",
    "print(\"\\nActual rankings:\")\n",
    "print(actual_returns_rankings.head(3))"
   ]
  },
  {
   "cell_type": "code",
   "execution_count": null,
   "metadata": {
    "colab": {
     "base_uri": "https://localhost:8080/"
    },
    "id": "rH4xGAO6OVQT",
    "outputId": "9dacaacf-e825-47a4-8639-d9c1a1cbd855"
   },
   "outputs": [],
   "source": [
    "rank_corr = rf_rankings.corrwith(actual_returns_rankings, axis=1).mean()\n",
    "print(f\"Rank correlation: {rank_corr.mean()*100:.2f}\")"
   ]
  },
  {
   "cell_type": "markdown",
   "metadata": {},
   "source": [
    "The model shows a small, positive predictive edge. On average, when the model ranks ETFs highly, it has a slightly better chance (5.90%) of performing well than "
   ]
  },
  {
   "cell_type": "code",
   "execution_count": null,
   "metadata": {
    "colab": {
     "base_uri": "https://localhost:8080/"
    },
    "id": "UatfyQjEOpJv",
    "outputId": "075ca281-331d-4b31-a8ca-b24549a2911f"
   },
   "outputs": [],
   "source": [
    "# random forest accuracy\n",
    "# % of time top 3 predicted match actual top 3\n",
    "def calculate_top3_accuracy(pred_rankings, actual_rankings):\n",
    "  top3_matches = 0\n",
    "  total_predictions = len(pred_rankings)\n",
    "  for i in range(len(rf_rankings)):\n",
    "    # top 3 predicted sectors\n",
    "    pred_top3 = set(rf_rankings.iloc[i].nsmallest(3).index)\n",
    "    # top 3 actual sectors\n",
    "    actual_top3 = set(actual_returns_rankings.iloc[i].nsmallest(3).index)\n",
    "\n",
    "    overlap = len(set(pred_top3) & set(actual_top3))\n",
    "    top3_matches += overlap / 3\n",
    "\n",
    "  return top3_matches / total_predictions\n",
    "\n",
    "rf_accuracy = calculate_top3_accuracy(rf_rankings, actual_returns_rankings)\n",
    "print(f\"Top 3 accuracy: {rf_accuracy:.1%}\")"
   ]
  },
  {
   "cell_type": "code",
   "execution_count": null,
   "metadata": {
    "colab": {
     "base_uri": "https://localhost:8080/"
    },
    "id": "u-JSWU9bsA_5",
    "outputId": "bf1a5ddd-a948-40c7-f8a1-f25ccccd4a88"
   },
   "outputs": [],
   "source": [
    "# direction accuracy for random forest\n",
    "rf_direction_correct = 0\n",
    "total_predictions = 0\n",
    "\n",
    "for i in range(len(rf_pred_df)):\n",
    "  for sector in rf_pred_df.columns:\n",
    "    predicted_return = rf_pred_df.iloc[i][sector]\n",
    "    actual_return = actual_returns_df.iloc[i][sector]\n",
    "\n",
    "    if (predicted_return > 0 and actual_return > 0) or (predicted_return < 0 and actual_return < 0):\n",
    "      rf_direction_correct += 1\n",
    "    total_predictions += 1\n",
    "\n",
    "rf_direction_accuracy = rf_direction_correct / total_predictions\n",
    "print(f\"Direction accuracy: {rf_direction_accuracy:.1%}\")"
   ]
  },
  {
   "cell_type": "markdown",
   "metadata": {
    "id": "Svlyww6zVwvf"
   },
   "source": [
    "## Part 4-2\n",
    "\n",
    "### Elastic Net"
   ]
  },
  {
   "cell_type": "code",
   "execution_count": null,
   "metadata": {
    "colab": {
     "base_uri": "https://localhost:8080/"
    },
    "id": "i2SOZbDzIsNT",
    "outputId": "49109fed-7dbf-4def-aef4-667870f7cc38"
   },
   "outputs": [],
   "source": [
    "# elastic net\n",
    "elnet_mod = ElasticNet(alpha=0.1,\n",
    "                       l1_ratio=0.5,\n",
    "                       random_state=42)\n",
    "scaler = StandardScaler()\n",
    "elnet_pred = []\n",
    "\n",
    "for i, result in enumerate(results):\n",
    "  # training data\n",
    "  train_data = df_t2.iloc[:start_idx + i + 1]\n",
    "  X_train = scaler.fit_transform(train_data[feature_cols])\n",
    "  y_train = train_data[target_cols].values\n",
    "\n",
    "  # testing data\n",
    "  test_data = df_t2.iloc[start_idx + i + 1:start_idx + i + 2]\n",
    "  X_test = scaler.transform(test_data[feature_cols])\n",
    "\n",
    "  # predict\n",
    "  elnet_mod.fit(X_train, y_train)\n",
    "  pred = elnet_mod.predict(X_test)[0]\n",
    "\n",
    "  # results\n",
    "  sector_dict = dict(zip([col.replace('_return_21d_forward','') for col in target_cols], pred))\n",
    "  elnet_pred.append({'date': result['test_date'], **sector_dict})\n",
    "\n",
    "print(f\"Elastic net total predictions: {len(elnet_pred)}\")\n",
    "print(f\"First prediction: {elnet_pred[0]['date']}\")\n",
    "print(f\"Last prediction: {elnet_pred[-1]['date']}\")"
   ]
  },
  {
   "cell_type": "code",
   "execution_count": null,
   "metadata": {
    "colab": {
     "base_uri": "https://localhost:8080/"
    },
    "id": "2QECtv2eIsPp",
    "outputId": "707a4038-694f-4459-c07d-5b4dd615d44d"
   },
   "outputs": [],
   "source": [
    "# rankings\n",
    "elnet_pred_df = pd.DataFrame(elnet_pred)\n",
    "elnet_pred_df.set_index('date', inplace=True)\n",
    "elnet_rankings = elnet_pred_df.rank(axis=1, ascending=False)\n",
    "\n",
    "print(\"Sample predictions:\")\n",
    "print(elnet_pred_df.head(3))\n",
    "print(\"\\nActual returns:\")\n",
    "print(actual_returns_df.head(3))\n",
    "print(\"\\nSample rankings:\")\n",
    "print(elnet_rankings.head(3))\n",
    "print(\"\\nActual rankings:\")\n",
    "print(actual_returns_rankings.head(3))"
   ]
  },
  {
   "cell_type": "code",
   "execution_count": null,
   "metadata": {
    "colab": {
     "base_uri": "https://localhost:8080/"
    },
    "id": "_R3lXBHUIsR5",
    "outputId": "38159239-8f58-4cb7-a937-b203924b519b"
   },
   "outputs": [],
   "source": [
    "# elastic net accuracy\n",
    "total_correct = 0\n",
    "total_possible = len(elnet_rankings) * 3\n",
    "\n",
    "for i in range(len(elnet_rankings)):\n",
    "  pred_top3 = set(elnet_rankings.iloc[i].nsmallest(3).index)\n",
    "  actual_top3 = set(actual_returns_rankings.iloc[i].nsmallest(3).index)\n",
    "  total_correct += len(pred_top3 & actual_top3)\n",
    "\n",
    "elnet_accuracy = total_correct / total_possible\n",
    "print(f\"Top 3 accuracy: {elnet_accuracy:.1%}\")"
   ]
  },
  {
   "cell_type": "code",
   "execution_count": null,
   "metadata": {
    "colab": {
     "base_uri": "https://localhost:8080/"
    },
    "id": "oH2ZbkEupUBV",
    "outputId": "cab900f4-f56a-486f-d969-b49f7b47bac3"
   },
   "outputs": [],
   "source": [
    "# direction accuracy for elastic net\n",
    "elnet_direction_correct = 0\n",
    "total_predictions = 0\n",
    "\n",
    "for i in range(len(elnet_pred_df)):\n",
    "  for sector in elnet_pred_df.columns:\n",
    "    predicted_return = elnet_pred_df.iloc[i][sector]\n",
    "    actual_return = actual_returns_df.iloc[i][sector]\n",
    "\n",
    "    if (predicted_return > 0 and actual_return > 0) or (predicted_return < 0 and actual_return < 0):\n",
    "      elnet_direction_correct += 1\n",
    "    total_predictions += 1\n",
    "\n",
    "elnet_direction_correct = elnet_direction_correct / total_predictions\n",
    "print(f\"Direction accuracy: {elnet_direction_correct:.1%}\")"
   ]
  },
  {
   "cell_type": "markdown",
   "metadata": {
    "id": "r-kZtiEsQs1e"
   },
   "source": [
    "## Part 4-3\n",
    "\n",
    "### Results"
   ]
  },
  {
   "cell_type": "code",
   "execution_count": null,
   "metadata": {
    "colab": {
     "base_uri": "https://localhost:8080/"
    },
    "id": "AouCb9_9SwFW",
    "outputId": "4ae67735-7ddb-4b93-89a5-26efcc187e44"
   },
   "outputs": [],
   "source": [
    "# baseline\n",
    "# random guessing top 3\n",
    "import random\n",
    "sim_accuracy = []\n",
    "nrep = 1000\n",
    "\n",
    "for i in range(nrep):\n",
    "  total_mathes = 0\n",
    "  for j in range(len(rf_rankings)):\n",
    "    random_top3 = set(random.sample(rf_rankings.columns.tolist(), 3))\n",
    "    actual_top3 = set(actual_returns_rankings.iloc[j].nsmallest(3).index)\n",
    "\n",
    "    total_mathes += len(random_top3 & actual_top3)\n",
    "\n",
    "  accuracy = total_mathes / (len(rf_rankings) *3)\n",
    "  sim_accuracy.append(accuracy)\n",
    "\n",
    "baseline = np.mean(sim_accuracy)\n",
    "print(f\"Baseline accuracy: {baseline:.1%}\")"
   ]
  },
  {
   "cell_type": "code",
   "execution_count": null,
   "metadata": {
    "colab": {
     "base_uri": "https://localhost:8080/"
    },
    "id": "jGW7K8RSua8v",
    "outputId": "83b3c65d-5713-4517-f7e8-a9b6aa3b298e"
   },
   "outputs": [],
   "source": [
    "# random guessing direction\n",
    "sim_direction_accuracy = []\n",
    "nrep = 1000\n",
    "\n",
    "for i in range(nrep):\n",
    "  total_correct = 0\n",
    "  total_predictions = 0\n",
    "  for j in range(len(rf_rankings)):\n",
    "    for sector in rf_rankings.columns:\n",
    "      random_direction = random.choice([-1, 1])\n",
    "      actual_return = actual_returns_df.iloc[j][sector]\n",
    "      actual_direction = 1 if actual_return > 0 else -1\n",
    "\n",
    "      if random_direction == actual_direction:\n",
    "        total_correct += 1\n",
    "      total_predictions += 1\n",
    "\n",
    "  direction_accuracy = total_correct / total_predictions\n",
    "  sim_direction_accuracy.append(direction_accuracy)\n",
    "\n",
    "baseline_direction_accuracy = np.mean(sim_direction_accuracy)\n",
    "print(f\"Baseline direction accuracy: {baseline_direction_accuracy:.1%}\")"
   ]
  },
  {
   "cell_type": "code",
   "execution_count": null,
   "metadata": {
    "colab": {
     "base_uri": "https://localhost:8080/"
    },
    "id": "XDy_JX7T3fIW",
    "outputId": "1cc43bd5-94b7-46f2-87b9-3cbbbf78b62a"
   },
   "outputs": [],
   "source": [
    "# simple momentum baseline\n",
    "# 63-day (3 month) return\n",
    "momentum_baseline = [col for col in df_t2.columns if '_rank_return_63d' in col and not col.endswith('_forward')]\n",
    "\n",
    "if momentum_baseline:\n",
    "  momentum_data = df_t2[momentum_baseline].loc[rf_pred_df.index]\n",
    "  momentum_rankings = momentum_data.rank(axis=1, ascending=False)\n",
    "  momentum_accuracy = calculate_top3_accuracy(momentum_rankings, actual_returns_rankings)\n",
    "  print(f\"Momentum accuracy: {momentum_accuracy:.1%}\")\n",
    "else:\n",
    "  print(\"No momentum data available\")"
   ]
  },
  {
   "cell_type": "code",
   "execution_count": null,
   "metadata": {
    "colab": {
     "base_uri": "https://localhost:8080/"
    },
    "id": "gqbypCeA3fLD",
    "outputId": "c033fbe7-f311-4800-809c-fda08ccadd45"
   },
   "outputs": [],
   "source": [
    "# momentum direction baseline\n",
    "momentum_direction_baseline = [col for col in df_t2.columns if '_return_63d' in col and 'rank' not in col]\n",
    "momentum_data = df_t2[momentum_direction_baseline].loc[rf_pred_df.index]\n",
    "\n",
    "momentum_direction_correct = 0\n",
    "total_predictions = 0\n",
    "\n",
    "for i in range(len(momentum_data)):\n",
    "  for col in momentum_direction_baseline:\n",
    "    sector = col.replace('_return_63d', '')\n",
    "\n",
    "    momentum_return = momentum_data.iloc[i][col]\n",
    "    predicted_direction = 1 if momentum_return > 0 else -1\n",
    "\n",
    "    actual_return = actual_returns_df.iloc[i][sector]\n",
    "    actual_direction = 1 if actual_return > 0 else -1\n",
    "\n",
    "    if predicted_direction == actual_direction:\n",
    "      momentum_direction_correct += 1\n",
    "    total_predictions += 1\n",
    "\n",
    "momentum_direction_accuracy = momentum_direction_correct / total_predictions\n",
    "print(f\"Momentum direction accuracy: {momentum_direction_accuracy:.1%}\")"
   ]
  },
  {
   "cell_type": "code",
   "execution_count": null,
   "metadata": {
    "colab": {
     "base_uri": "https://localhost:8080/"
    },
    "id": "6Az4m_jepUDp",
    "outputId": "f098bf19-a394-4395-bbf7-4d3c3e6d15a9"
   },
   "outputs": [],
   "source": [
    "# result table\n",
    "results = pd.DataFrame({\n",
    "    'Model': ['Random Baseline', 'Momentum Baseline',\n",
    "              'Random Forest', 'Elastic Net'],\n",
    "    'Top 3 ETFs Accuracy': [baseline, momentum_accuracy,\n",
    "                       rf_accuracy, elnet_accuracy],\n",
    "    'Direction Accuracy': [baseline_direction_accuracy,\n",
    "                           momentum_direction_accuracy,\n",
    "                           rf_direction_accuracy,\n",
    "                           elnet_direction_correct,]\n",
    "})\n",
    "\n",
    "results['Top 3 ETFs Accuracy'] = results[\n",
    "    'Top 3 ETFs Accuracy'].apply(lambda x: f\"{x*100:.1f}%\")\n",
    "\n",
    "\n",
    "results['Direction Accuracy'] = results[\n",
    "    'Direction Accuracy'].apply(lambda x: f\"{x*100:.1f}%\")\n",
    "\n",
    "print(results.to_string(index=False))"
   ]
  },
  {
   "cell_type": "code",
   "execution_count": null,
   "metadata": {
    "colab": {
     "base_uri": "https://localhost:8080/",
     "height": 484
    },
    "id": "1v5-tPIk93Q_",
    "outputId": "111b737e-595b-4b7a-afaf-7b52dcc4b1b5"
   },
   "outputs": [],
   "source": [
    "# top 3 accuracy comparison\n",
    "models = ['Random\\nBaseline', 'Momentum\\nBaseline', 'Random\\nForest', 'Elastic\\nNet']\n",
    "top3_scores = [baseline, momentum_accuracy, rf_accuracy, elnet_accuracy]\n",
    "\n",
    "plt.figure(figsize=(8, 5))\n",
    "bars = plt.bar(models, top3_scores, width=0.6,\n",
    "               color=['lightgray', 'lightblue', 'skyblue', 'steelblue'])\n",
    "plt.axhline(y=baseline, color='black', linestyle=':',\n",
    "            label=f'Random Baseline: {baseline:.1%}')\n",
    "plt.ylabel('Top-3 Accuracy (%)')\n",
    "plt.title('Ranking Top-3 ETFs Accuracy Comparison')\n",
    "plt.show()"
   ]
  },
  {
   "cell_type": "code",
   "execution_count": null,
   "metadata": {
    "colab": {
     "base_uri": "https://localhost:8080/",
     "height": 484
    },
    "id": "V_dxxmYz_jJc",
    "outputId": "405a7d81-ce82-49df-c355-6ac86cece0ea"
   },
   "outputs": [],
   "source": [
    "# direction accuracy comparison\n",
    "direction_scores = [baseline_direction_accuracy, momentum_direction_accuracy,\n",
    "                    rf_direction_accuracy, elnet_direction_correct]\n",
    "plt.figure(figsize=(8,5))\n",
    "bars = plt.bar(models, direction_scores, width=0.6,\n",
    "               color=['lightgray', 'lightblue', 'skyblue', 'steelblue'])\n",
    "plt.axhline(y=baseline_direction_accuracy, color='black', linestyle=':',\n",
    "            label=f'Random Baseline: {baseline_direction_accuracy:.1%}')\n",
    "plt.ylabel('Direction Accuracy (%)')\n",
    "plt.title('Direction Accuracy Comparison')\n",
    "plt.legend()\n",
    "plt.show()"
   ]
  },
  {
   "cell_type": "markdown",
   "metadata": {
    "id": "TLBfb8I2hEY4"
   },
   "source": [
    "Result analysis & feature importance analysis\n",
    "\n",
    "Result analysis\n",
    "- Both models failed to predict which sector ETFs will be top 3\n",
    "- Elastic net performed worst while random forest was on par with momentum baseline.\n",
    "- This shows momentum based features might have high importance among the features.\n",
    "\n",
    "Both models showed better direction accuracy than momentum baseline.\n",
    "However, 60.1% direction accuracy by elastic net seems suspiciously high. Investigation starts here.\n",
    "Need to check feature importance"
   ]
  },
  {
   "cell_type": "code",
   "execution_count": null,
   "metadata": {
    "colab": {
     "base_uri": "https://localhost:8080/"
    },
    "id": "fEjCy2w-qgpW",
    "outputId": "d63f5e91-995e-4e59-f955-e565b6331ace"
   },
   "outputs": [],
   "source": [
    "# check SPY above 200MA counts\n",
    "spy_regime = df_t2['spy_above_200ma'].value_counts()\n",
    "print(spy_regime)\n",
    "print(f\"Percentage above 200MA: {spy_regime[1]/len(df_t2):.1%}\")"
   ]
  },
  {
   "cell_type": "code",
   "execution_count": null,
   "metadata": {
    "colab": {
     "base_uri": "https://localhost:8080/",
     "height": 503
    },
    "id": "voWaOqaqAFHw",
    "outputId": "fbfa78e9-de09-4469-d94e-48d8dfcd7566"
   },
   "outputs": [],
   "source": [
    "# SPY feature barplot\n",
    "plt.figure(figsize=(5, 5))\n",
    "plt.bar([1,0], spy_regime.values, color=['steelblue','lightgray'], width=.5,\n",
    "        label=[f'Bull: 82.2%', f'Bear: 17.8%'])\n",
    "plt.xlabel('SPY above 200-Day MA')\n",
    "plt.ylabel('Number of Months')\n",
    "plt.title('Market Regime Distribution (Bull vs Bear)')\n",
    "plt.xticks([1,0], ['Above 200MA\\n(Bull)','Below 200MA\\n(Bear)'])\n",
    "plt.legend()\n",
    "plt.show()"
   ]
  },
  {
   "cell_type": "markdown",
   "metadata": {},
   "source": [
    "- 82.2% of the time SPY was above 200MA\n",
    "- Only 30 months of bear market\n",
    "- 18% bear market period is not enough to create meaningful patters for random forest\n",
    "- Model learned everything goes up which made regime feature useless because it was dominated by bull market\n",
    "- This leads to suspicion that direction accuracy coming from bull market persistence, and not from modeling"
   ]
  },
  {
   "cell_type": "markdown",
   "metadata": {
    "id": "2UESHN2tQhxB"
   },
   "source": [
    "## Part 5-1\n",
    "\n",
    "### Random forest analysis (feature importance)"
   ]
  },
  {
   "cell_type": "code",
   "execution_count": null,
   "metadata": {
    "colab": {
     "base_uri": "https://localhost:8080/"
    },
    "id": "cc_vrnUnQ2ix",
    "outputId": "3279ad4e-1a2c-4567-cfcc-309ae4e96ad6"
   },
   "outputs": [],
   "source": [
    "# feature importance\n",
    "from sklearn.inspection import permutation_importance\n",
    "# random forest\n",
    "rf_feature_importance = rf_mod.feature_importances_\n",
    "rf_importance_df = pd.DataFrame({\n",
    "    'Feature': feature_cols,\n",
    "    'Importance': rf_feature_importance\n",
    "}).sort_values('Importance', ascending=False)\n",
    "\n",
    "print(f\"Random Forest top 30 Feature Importance:\")\n",
    "print(rf_importance_df.head(30))"
   ]
  },
  {
   "cell_type": "code",
   "execution_count": null,
   "metadata": {
    "colab": {
     "base_uri": "https://localhost:8080/",
     "height": 487
    },
    "id": "Ec65eCOJWOGa",
    "outputId": "201a3f7e-f157-44ff-edd0-2de3a208bc80"
   },
   "outputs": [],
   "source": [
    "# random forest feature importance plot\n",
    "top5_features = rf_importance_df.head(5)\n",
    "macro_features = rf_importance_df[rf_importance_df['Feature'].isin([\n",
    "    'hy_credit_spread','oil_price_momentum_63d',\n",
    "    'treasury_10y_level','spy_above_200ma'\n",
    "])]\n",
    "\n",
    "plot_data = pd.concat([top5_features, macro_features]).drop_duplicates()\n",
    "\n",
    "plt.figure(figsize=(8, 5))\n",
    "plt.barh(plot_data['Feature'], plot_data['Importance']*100,\n",
    "         color=['steelblue']*5 + ['coral']*len(macro_features))\n",
    "plt.xlabel('Feature Importance (%)')\n",
    "plt.title('Random Forest Feature Importance: Top Features vs Macro Variables')\n",
    "plt.gca().invert_yaxis()\n",
    "plt.show()"
   ]
  },
  {
   "cell_type": "markdown",
   "metadata": {
    "id": "KMdzrehD-gsY"
   },
   "source": [
    "- extreme concentration on single sector, XLE, accouts more than 30% of the model's predictive power\n",
    "- model is basing a huge portion of its decision on 11 sectors based on behavior of one or two sectors (XLE, XLF)\n",
    "- macro features show weaker importance compared to momentum features\n",
    "- regime macro feature based on SPY is completely ignored"
   ]
  },
  {
   "cell_type": "markdown",
   "metadata": {
    "id": "71MYM43LSyDY"
   },
   "source": [
    "## Part 5-2\n",
    "\n",
    "### Elastic net analysis (feature importance)"
   ]
  },
  {
   "cell_type": "code",
   "execution_count": null,
   "metadata": {
    "colab": {
     "base_uri": "https://localhost:8080/"
    },
    "id": "cLAlbVbwRk26",
    "outputId": "be9d1660-2719-4c1f-c11c-9067d37c00e5"
   },
   "outputs": [],
   "source": [
    "# elastic net\n",
    "elnet_feature_importance = np.abs(elnet_mod.coef_).mean(axis=0)\n",
    "elnet_importance_df = pd.DataFrame({\n",
    "    'Feature': feature_cols,\n",
    "    'Coefficient': elnet_feature_importance\n",
    "}).sort_values('Coefficient', ascending=False)\n",
    "\n",
    "print(f\"Elastic Net top 10 Feature Importance:\")\n",
    "print(elnet_importance_df.head(10))"
   ]
  },
  {
   "cell_type": "code",
   "execution_count": null,
   "metadata": {
    "colab": {
     "base_uri": "https://localhost:8080/",
     "height": 564
    },
    "id": "C2GsBYcJR_oN",
    "outputId": "9597ddfb-6c70-413c-f8f0-1f2a3f8df9d6"
   },
   "outputs": [],
   "source": [
    "# elastic net feature importance plot\n",
    "# blank plot\n",
    "top5_features = elnet_importance_df.head(5)\n",
    "macro_features = elnet_importance_df[elnet_importance_df['Feature'].isin([\n",
    "    'hy_credit_spread','oil_price_momentum_63d',\n",
    "    'treasury_10y_level','spy_above_200ma'\n",
    "])]\n",
    "\n",
    "plot_data = pd.concat([top5_features, macro_features]).drop_duplicates()\n",
    "\n",
    "plt.figure(figsize=(10, 6))\n",
    "plt.barh(plot_data['Feature'], plot_data['Coefficient']*100,\n",
    "         color=['steelblue']*5 + ['coral']*len(macro_features))\n",
    "plt.xlabel('Feature Importance (%)')\n",
    "plt.title('Random Forest Feature Importance: Top Features vs Macro Variables')\n",
    "plt.gca().invert_yaxis()\n",
    "plt.show()"
   ]
  },
  {
   "cell_type": "markdown",
   "metadata": {
    "id": "tO9lp57g-c33"
   },
   "source": [
    "- elastic net ignored all features\n",
    "- its 60% direction accuracy came from learning 82% bull market dominance\n"
   ]
  },
  {
   "cell_type": "code",
   "execution_count": null,
   "metadata": {
    "colab": {
     "base_uri": "https://localhost:8080/"
    },
    "id": "J2VxZzmH94jk",
    "outputId": "6102775c-7d38-4510-a415-95f2d1cfd7a9"
   },
   "outputs": [],
   "source": [
    "# elastic net positive rate\n",
    "pos_pred = (elnet_pred_df > 0).sum().sum()\n",
    "tot_pred = elnet_pred_df.size\n",
    "pred_pos_rate = pos_pred / tot_pred\n",
    "print(f\"Elastic net positive predictions: {pred_pos_rate:.1%}\")"
   ]
  },
  {
   "cell_type": "code",
   "execution_count": null,
   "metadata": {
    "colab": {
     "base_uri": "https://localhost:8080/"
    },
    "id": "vmAIIIe2XfQ-",
    "outputId": "6f67b490-4053-459c-c7a0-a420e947505b"
   },
   "outputs": [],
   "source": [
    "# positive rate by sector\n",
    "print(\"\\nPositive by sector:\")\n",
    "print((elnet_pred_df > 0).mean())"
   ]
  },
  {
   "cell_type": "markdown",
   "metadata": {},
   "source": [
    "Feature importance analysis\n",
    "\n",
    "Random forest turns out to be energy model\n",
    "\n",
    "The most immediate and powerful story is that Random Forest model isn't functioning as a balanced, all-sector rotation model. Instead, it has effectively become a specialized momentum model that is overwhelmingly driven by the Energy sector (XLE).\n",
    "\n",
    "* Extreme Concentration: The top 4 features alone account for over 45% of the model's predictive power. Three of these four features belong to a single sector: XLE. The model is basing a huge portion of its decisions for all 11 sectors on the behavior of just one or two of them.\n",
    "* Momentum is King: The most important features are all related to momentum (_return_63d, _return_252d) or risk-adjusted momentum (_sharpe_63d). This tells the model has learned a simple primary rule: \"the best predictor of a sector's future performance is its own recent performance.\" This makes planned comparison against a simple momentum baseline absolutely critical.\n",
    "* Macro Signals are Ignored: The model has decided that the broad macro features provided are far less important than the specific momentum of individual sectors. The model is essentially ignoring macro features.\n",
    "* The model's 55% direction accuracy heavily relies on Energy sector patterns - it's not learning general market dynamics, just Energy-specific signals\n",
    "\n",
    "The model has latched onto XLE for a few distinct reasons:\n",
    "1. High Volatility and Strong Trends: The Energy sector is more volatile and cyclical than other sectors. It experiences massive booms and busts tied to the price of oil. For a tree-based model like Random Forest, this acts as very strong, clear signal (big up-trends, big down-trends) that are easy to use for splitting data and making rules.\n",
    "2. Unique Driver: Unlike tech or healthcare, Energy's fate is tied directly to a single, globally traded commodity. This makes its behavior fundamentally different from the other 10 sectors, which are more closely tied to the general business cycle. This uniqueness makes it a powerful, and apparently dominant, predictive feature."
   ]
  },
  {
   "cell_type": "markdown",
   "metadata": {
    "id": "hY8RszDkZ4bK"
   },
   "source": [
    "- elastic net ignored all features and predicted 97.1% positive based on its interept\n",
    "- elastic net learned that, on average, sectors go up, so it predicted always up\n",
    "- this explains why random forest feature importance relied heavily on XLE. XLE was the only sector with meaningful variation.\n"
   ]
  },
  {
   "cell_type": "markdown",
   "metadata": {
    "id": "r_5a8vPnlpGu"
   },
   "source": [
    "## Part 6-1\n",
    "\n",
    "### Backtesting - random forest"
   ]
  },
  {
   "cell_type": "code",
   "execution_count": null,
   "metadata": {
    "id": "V4XZeGEml0xf"
   },
   "outputs": [],
   "source": [
    "# backtesting random forest model performance\n",
    "def simple_backtest(rankings, actual_returns, top_n=3):\n",
    "  # initialize an empty list to store the monthly returns\n",
    "  portfolio_return = []\n",
    "\n",
    "  # loop through each month in test period\n",
    "  for i in range(len(rankings)):\n",
    "    # find the names of the top 3 sectors for this month\n",
    "    top_sectors = rankings.iloc[i].nsmallest(top_n).index\n",
    "    # equal weight portfolio return for this month\n",
    "    month_return = actual_returns.iloc[i][top_sectors].mean()\n",
    "    portfolio_return.append(month_return)\n",
    "\n",
    "  return pd.Series(portfolio_return, index=rankings.index)"
   ]
  },
  {
   "cell_type": "code",
   "execution_count": null,
   "metadata": {
    "colab": {
     "base_uri": "https://localhost:8080/"
    },
    "id": "GZYuV9A6l00B",
    "outputId": "3b31b33b-0e77-4403-9ac4-6a052bda1ec7"
   },
   "outputs": [],
   "source": [
    "# random forest portfolio backtest\n",
    "rf_portfolio_returns = simple_backtest(rf_rankings, actual_returns_df, top_n=3)\n",
    "\n",
    "rf_annual_return = rf_portfolio_returns.mean() * 12\n",
    "rf_volatility = rf_portfolio_returns.std() * np.sqrt(12)\n",
    "rf_sharpe_ratio = rf_annual_return / rf_volatility\n",
    "\n",
    "print(f\"Random Forest Portfolio Performance:\")\n",
    "print(f\"Annualized Return: {rf_annual_return:.1%}%\")\n",
    "print(f\"Annualized Volatility: {rf_volatility:.1%}%\")\n",
    "print(f\"Sharpe Ratio: {rf_sharpe_ratio:.2f}\")"
   ]
  },
  {
   "cell_type": "code",
   "execution_count": null,
   "metadata": {
    "colab": {
     "base_uri": "https://localhost:8080/"
    },
    "id": "tXp5gcK-_E5S",
    "outputId": "eb4f237c-86e5-4062-fd34-e040d6752a19"
   },
   "outputs": [],
   "source": [
    "# baseline result (investing SPY only without sector rotation)\n",
    "# SPY data setup\n",
    "spy_df = pd.DataFrame({\n",
    "    'SPY': df_data['SPY'],\n",
    "    'spy_return_21d_forward': np.log(df_data['SPY'].shift(-21) / df_data['SPY'])\n",
    "}, index=df_data.index)\n",
    "\n",
    "# merge spy_df into df_clean\n",
    "df_clean_with_spy = df_clean.merge(spy_df, left_index=True, right_index=True,\n",
    "                                   how='left')\n",
    "\n",
    "# create T-2 dataset with new dataset\n",
    "month_ends = df_clean_with_spy.resample('BM').last().index\n",
    "t2_dates = month_ends - pd.tseries.offsets.BDay(2)\n",
    "df_t2_with_spy = df_clean_with_spy.loc[df_clean_with_spy.index.isin(t2_dates)]\n",
    "\n",
    "# SPY only backtest\n",
    "spy_returns_backtest = df_t2_with_spy['spy_return_21d_forward'].loc[rf_portfolio_returns.index]\n",
    "\n",
    "\n",
    "spy_annual_return = spy_returns_backtest.mean() * 12\n",
    "spy_volatility = spy_returns_backtest.std() * np.sqrt(12)\n",
    "spy_sharpe_ratio = spy_annual_return / spy_volatility\n",
    "print(f\"SPY data shape: {spy_returns_backtest.shape}\")\n",
    "print(f\"First date: {spy_returns_backtest.index.date[0]}\")\n",
    "print(f\"Last date: {spy_returns_backtest.index.date[-1]}\")"
   ]
  },
  {
   "cell_type": "code",
   "execution_count": null,
   "metadata": {
    "colab": {
     "base_uri": "https://localhost:8080/"
    },
    "id": "AGPyrqZCQYWq",
    "outputId": "db415573-079b-4800-858c-fd8474a00383"
   },
   "outputs": [],
   "source": [
    "# SPY performance metrics\n",
    "print(\"SPY Benchmark Performance:\")\n",
    "print(f\"Annualized Return: {spy_annual_return:.1%}\")\n",
    "print(f\"Annualized Volatility: {spy_volatility:.1%}\")\n",
    "print(f\"Sharpe Ratio: {spy_sharpe_ratio:.2f}\")\n",
    "\n",
    "print(\"\\nComparison:\")\n",
    "print(\"Random Forest vs SPY:\")\n",
    "print(f\"RF Return: {rf_annual_return:.1%} vs SPY Return: {spy_annual_return:.1%}\")"
   ]
  },
  {
   "cell_type": "code",
   "execution_count": null,
   "metadata": {
    "colab": {
     "base_uri": "https://localhost:8080/"
    },
    "id": "ErWlNk_yV5MN",
    "outputId": "d6a05f2a-f78d-4c02-d5db-52ec6388f82c"
   },
   "outputs": [],
   "source": [
    "# RF vs SPY buy and hold ($1 initial investment)\n",
    "plt.figure(figsize=(12,6))\n",
    "\n",
    "rf_cumulative = (1 + rf_portfolio_returns).cumprod()\n",
    "spy_cumulative = (1 + spy_returns_backtest).cumprod()\n",
    "\n",
    "plt.plot(rf_cumulative, label='Random Forest Strategy', color='steelblue',\n",
    "         linewidth=2)\n",
    "plt.plot(spy_cumulative, label='SPY Banchmark', color='darkgray',\n",
    "         linewidth=2)\n",
    "plt.title('Cumulative Returns: RF Sector Rotation vs SPY')\n",
    "plt.ylabel('Portfolio Value ($1 Initial Investment)')\n",
    "plt.legend()\n",
    "plt.show()"
   ]
  },
  {
   "cell_type": "code",
   "execution_count": null,
   "metadata": {
    "colab": {
     "base_uri": "https://localhost:8080/"
    },
    "id": "hg5b-3yNYcoR",
    "outputId": "4dbdc6d3-8378-4349-fe10-6ed2a7196306"
   },
   "outputs": [],
   "source": [
    "rf_metrics_data = pd.DataFrame({\n",
    "    'Random Forest': [rf_annual_return*100, rf_volatility*100, rf_sharpe_ratio],\n",
    "    'SPY Benchmark': [spy_annual_return*100, spy_volatility*100, spy_sharpe_ratio]\n",
    "}, index=['Annual Return (%)','Volatility (%)','Sharpe Ratio'])\n",
    "\n",
    "fig, ax = plt.subplots(1,3, figsize=(9,4))\n",
    "\n",
    "for i, metric in enumerate(rf_metrics_data.index):\n",
    "  ax[i].bar(['RF Strategy', 'SPY Benchmark'], rf_metrics_data.iloc[i],\n",
    "            color=['steelblue', 'darkgray'], width=.8)\n",
    "  ax[i].set_title(metric)\n",
    "  ax[i].set_ylabel(metric)\n",
    "\n",
    "plt.tight_layout()\n",
    "plt.show()"
   ]
  },
  {
   "cell_type": "markdown",
   "metadata": {
    "id": "4Ql6k6pcmGB8"
   },
   "source": [
    "- random forest sector rotation strategy shows slightly higher performance than buy and hold SPY strategy.\n",
    "- however, the difference is too small to trade off transaction cost and expenses. cost of buying and selling sector ETFs every month would far exceed cost of just buying and holding SPY."
   ]
  },
  {
   "cell_type": "markdown",
   "metadata": {
    "id": "a4SOg_5ElvGx"
   },
   "source": [
    "## Part 6-2\n",
    "\n",
    "### Backtesting - elastic net"
   ]
  },
  {
   "cell_type": "code",
   "execution_count": null,
   "metadata": {
    "colab": {
     "base_uri": "https://localhost:8080/"
    },
    "id": "rLwjqmW8l1es",
    "outputId": "8f0b248f-6ebd-42ea-a399-9ef1fb04d2a0"
   },
   "outputs": [],
   "source": [
    "# elastic net portfolio backtest\n",
    "en_portfolio_returns = simple_backtest(elnet_rankings, actual_returns_df, top_n=3)\n",
    "\n",
    "en_annual_return = en_portfolio_returns.mean() * 12\n",
    "en_volatility = en_portfolio_returns.std() * np.sqrt(12)\n",
    "en_sharpe_ratio = en_annual_return / en_volatility\n",
    "\n",
    "print(f\"Elastic Net Portfolio Performance:\")\n",
    "print(f\"Annualized Return: {en_annual_return:.1%}\")\n",
    "print(f\"Annualized Volatility: {en_volatility:.1%}\")\n",
    "print(f\"Sharpe Ratio: {en_sharpe_ratio:.2f}\")"
   ]
  },
  {
   "cell_type": "code",
   "execution_count": null,
   "metadata": {
    "colab": {
     "base_uri": "https://localhost:8080/"
    },
    "id": "tXn8QFwMl1hB",
    "outputId": "d8d6a9ff-1acb-4a60-b374-17c0e63bf5d9"
   },
   "outputs": [],
   "source": [
    "# SPY performance metrics\n",
    "print(\"SPY Benchmark Performance:\")\n",
    "print(f\"Annualized Return: {spy_annual_return:.1%}\")\n",
    "print(f\"Annualized Volatility: {spy_volatility:.1%}\")\n",
    "print(f\"Sharpe Ratio: {spy_sharpe_ratio:.2f}\")\n",
    "\n",
    "print(\"\\nComparison:\")\n",
    "print(\"Random Forest vs SPY:\")\n",
    "print(f\"RF Return: {en_annual_return:.1%} vs SPY Return: {spy_annual_return:.1%}\")"
   ]
  },
  {
   "cell_type": "code",
   "execution_count": null,
   "metadata": {
    "colab": {
     "base_uri": "https://localhost:8080/"
    },
    "id": "smZ1Tdkyl1jm",
    "outputId": "7be45e8a-586b-4ee6-8097-89029fbaeffa"
   },
   "outputs": [],
   "source": [
    "# EN vs SPY buy and hold ($1 initial investment)\n",
    "plt.figure(figsize=(12,6))\n",
    "\n",
    "en_cumulative = (1 + en_portfolio_returns).cumprod()\n",
    "spy_cumulative = (1 + spy_returns_backtest).cumprod()\n",
    "\n",
    "plt.plot(en_cumulative, label='Elastic Net Strategy', color='steelblue',\n",
    "         linewidth=2)\n",
    "plt.plot(spy_cumulative, label='SPY Banchmark', color='darkgray',\n",
    "         linewidth=2)\n",
    "plt.title('Cumulative Returns: EN Sector Rotation vs SPY')\n",
    "plt.ylabel('Portfolio Value ($1 Initial Investment)')\n",
    "plt.legend()\n",
    "plt.show()"
   ]
  },
  {
   "cell_type": "code",
   "execution_count": null,
   "metadata": {
    "colab": {
     "base_uri": "https://localhost:8080/"
    },
    "id": "vkA5xqVUflNw",
    "outputId": "3cd069ff-b9b5-47ce-9ed8-5811be84ba88"
   },
   "outputs": [],
   "source": [
    "en_metrics_data = pd.DataFrame({\n",
    "    'Elastic Net': [en_annual_return*100, en_volatility*100, en_sharpe_ratio],\n",
    "    'SPY Benchmark': [spy_annual_return*100, spy_volatility*100, spy_sharpe_ratio]\n",
    "}, index=['Annual Return (%)','Volatility (%)','Sharpe Ratio'])\n",
    "\n",
    "fig, ax = plt.subplots(1,3, figsize=(9,4))\n",
    "\n",
    "for i, metric in enumerate(en_metrics_data.index):\n",
    "  ax[i].bar(['EN Strategy', 'SPY Benchmark'], en_metrics_data.iloc[i],\n",
    "            color=['steelblue', 'darkgray'], width=.8)\n",
    "  ax[i].set_title(metric)\n",
    "  ax[i].set_ylabel(metric)\n",
    "\n",
    "plt.tight_layout()\n",
    "plt.show()"
   ]
  },
  {
   "cell_type": "markdown",
   "metadata": {
    "id": "2h1aKrKanTlp"
   },
   "source": [
    "- Elastic net sector rotation underperformed SPY buy and hold strategy."
   ]
  },
  {
   "cell_type": "code",
   "execution_count": null,
   "metadata": {
    "id": "Me3VeFmJkZes"
   },
   "outputs": [],
   "source": [
    "# EN direction backtesting\n",
    "def direction_backtest(predictions_df, spy_returns):\n",
    "    portfolio_returns = []\n",
    "    for i in range(len(predictions_df)):\n",
    "      avg_prediction = predictions_df.iloc[i].mean()\n",
    "      if avg_prediction > 0:\n",
    "        month_return = spy_returns.iloc[i]\n",
    "      else:\n",
    "        month_return = 0.0\n",
    "\n",
    "      portfolio_returns.append(month_return)\n",
    "\n",
    "    return pd.Series(portfolio_returns, index=predictions_df.index)"
   ]
  },
  {
   "cell_type": "code",
   "execution_count": null,
   "metadata": {
    "colab": {
     "base_uri": "https://localhost:8080/"
    },
    "id": "NkaA35X8k0su",
    "outputId": "bf55fbe1-8003-4cf1-8b15-227358dff484"
   },
   "outputs": [],
   "source": [
    "en_direction_portfolio = direction_backtest(elnet_pred_df, spy_returns_backtest)\n",
    "\n",
    "en_direction_annual = en_direction_portfolio.mean() * 12\n",
    "en_direction_volatility = en_direction_portfolio.std() * np.sqrt(12)\n",
    "en_direction_sharpe = en_direction_annual / en_direction_volatility\n",
    "\n",
    "print(f\"Elastic Net Direction Strategy Performance:\")\n",
    "print(f\"Annualized Return: {en_direction_annual:.1%}\")\n",
    "print(f\"Annualized Volatility: {en_direction_volatility:.1%}\")\n",
    "print(f\"Sharpe Ratio: {en_direction_sharpe:.2f}\")"
   ]
  },
  {
   "cell_type": "code",
   "execution_count": null,
   "metadata": {
    "colab": {
     "base_uri": "https://localhost:8080/"
    },
    "id": "HtPvUptfgc17",
    "outputId": "d1090639-506e-470f-8da6-3c0c6ad1fac1"
   },
   "outputs": [],
   "source": [
    "# compare all EN strategies against SPY buy and hold\n",
    "direction_comparison = pd.DataFrame({\n",
    "    'EN Direction Strategy': [en_direction_annual*100, en_direction_volatility*100, en_direction_sharpe],\n",
    "    'SPY Buy-and-Hold': [spy_annual_return*100, spy_volatility*100, spy_sharpe_ratio],\n",
    "    'EN Sector Rotation': [en_annual_return*100, en_volatility*100, en_sharpe_ratio]\n",
    "}, index=['Annual Return (%)', 'Volatility (%)', 'Sharpe Ratio'])\n",
    "\n",
    "print(\"Strategy Comparison:\")\n",
    "print(direction_comparison)"
   ]
  },
  {
   "cell_type": "code",
   "execution_count": null,
   "metadata": {
    "colab": {
     "base_uri": "https://localhost:8080/"
    },
    "id": "sUtE3x49jHv8",
    "outputId": "dfebb533-fbde-4a6e-fc6c-ac26c43682fb"
   },
   "outputs": [],
   "source": [
    "# EN strategies vs SPY buy and hold ($1 initial investment)\n",
    "plt.figure(figsize=(12, 6))\n",
    "\n",
    "en_direction_cumulative = (1 + en_direction_portfolio).cumprod()\n",
    "spy_cumulative = (1 + spy_returns_backtest).cumprod()\n",
    "en_sector_cumulative = (1 + en_portfolio_returns).cumprod()\n",
    "\n",
    "plt.plot(en_direction_cumulative.index, en_direction_cumulative.values,\n",
    "         label='EN Direction Strategy', linewidth=2, color='steelblue')\n",
    "plt.plot(spy_cumulative.index, spy_cumulative.values,\n",
    "         label='SPY Buy-and-Hold', linewidth=2, color='darkorange', linestyle='--')\n",
    "plt.plot(en_sector_cumulative.index, en_sector_cumulative.values,\n",
    "         label='EN Sector Rotation', linewidth=2, color='darkgray')\n",
    "\n",
    "plt.title('Elastic Net Strategies vs SPY Benchmark')\n",
    "plt.ylabel('Portfolio Value ($1 Initial Investment)')\n",
    "plt.legend()\n",
    "plt.show()"
   ]
  },
  {
   "cell_type": "markdown",
   "metadata": {
    "id": "eYCP3o6PiPor"
   },
   "source": [
    "- elastic net's superior direction accuracy turned out tobe meaningless - it just learned to always predict 'up' during a bull market period. the resulting market timing strategy was identical to passive buy and hold SPY stragety.\n",
    "- model learned environment bias and no predictive signals\n",
    "- both en strategies failed - one underperformed, the other just identical to the benchmark whild paying additional expense cost.\n",
    "- random forest direction strategy likely similar since both models learned bull market bias."
   ]
  },
  {
   "cell_type": "markdown",
   "metadata": {
    "id": "jkeSuD2_bW-N"
   },
   "source": [
    "## Conclusion"
   ]
  },
  {
   "cell_type": "markdown",
   "metadata": {
    "id": "gK7ELv3ddC_T"
   },
   "source": [
    "### Lessons learned"
   ]
  },
  {
   "cell_type": "markdown",
   "metadata": {
    "id": "CRtg6hukbb5n"
   },
   "source": [
    "- engineer more sophisticated macro features\n",
    " - momentum features work better than macro features for short term prediction\n",
    " - cross-sectional ranking features didn't help as expected\n",
    " - time horizon mismatch; macro trends need longer time horizon\n",
    "- might have discovered energy sector predictable model\n",
    " - results revealed that XLE momentum and volatility patterns are learnable\n",
    " - energy sector behaves differently from other sectors\n",
    "- market regime matters\n",
    " - 82% bull market is a crucial and decisive factor\n",
    " - proves importance of testing models across different market conditions\n",
    " - reveals how models can learn environmental bias"
   ]
  },
  {
   "cell_type": "markdown",
   "metadata": {
    "id": "M5l7sB8DdGQ-"
   },
   "source": [
    "### Limitation of current approach"
   ]
  },
  {
   "cell_type": "markdown",
   "metadata": {
    "id": "VNgWy2QQdJIv"
   },
   "source": [
    "- exposing model to broader market history \n",
    "- acquiring more and richer data"
   ]
  },
  {
   "cell_type": "markdown",
   "metadata": {
    "id": "GCbg5G9ddJh4"
   },
   "source": [
    "### Future research/work"
   ]
  },
  {
   "cell_type": "markdown",
   "metadata": {
    "id": "UX-QjwDbdTRc"
   },
   "source": [
    "- engineer more sohpisticated features with given data (unlikely change the model performance)\n",
    "- develop a strategy focused on a smaller, less correlated portfolio of sectors\n",
    "- build a dedicated model for the energy sector (XLE) to leverage its strong patterns\n",
    "- complete new idea: model predicting volatility"
   ]
  }
 ],
 "metadata": {
  "colab": {
   "provenance": []
  },
  "kernelspec": {
   "display_name": "trading_env",
   "language": "python",
   "name": "python3"
  },
  "language_info": {
   "codemirror_mode": {
    "name": "ipython",
    "version": 3
   },
   "file_extension": ".py",
   "mimetype": "text/x-python",
   "name": "python",
   "nbconvert_exporter": "python",
   "pygments_lexer": "ipython3",
   "version": "3.12.11"
  }
 },
 "nbformat": 4,
 "nbformat_minor": 4
}
